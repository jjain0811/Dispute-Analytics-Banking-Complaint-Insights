{
  "cells": [
    {
      "cell_type": "markdown",
      "id": "09824747",
      "metadata": {
        "papermill": {
          "duration": 0.042383,
          "end_time": "2022-02-10T16:52:39.167370",
          "exception": false,
          "start_time": "2022-02-10T16:52:39.124987",
          "status": "completed"
        },
        "tags": [],
        "id": "09824747"
      },
      "source": [
        "## Introduction\n",
        "\n",
        "This notebook is the result of my final project for my Business Analytics Course.\n",
        "\n",
        "<br>_The Project_</br>\n",
        "Using consumer complaint data from the Consumer Financial Protection Bureau (CFBA), build a machine learning model to help banks identify which consumer complaints will result in a dispute and to minimize the cost spent by the bank to resolve it.\n",
        "\n",
        "<br>_Data Source_</br>\n",
        "* Data can be downloaded here: https://www.consumerfinance.gov/data-research/consumer-complaints/\n",
        "* The data used in this notebook was filtered to only include data from the five banks generally considered to be the five largest banks in the US. Namely, Bank of America, National Association, Wells Fargo & Company, JPMorgan Chase & Co., Citibank, U.S. Bancorp.\n",
        "* The data is limited from 2012-March 2017 because the CFPB stopped collecting data for customer disputes in April 2017.\n",
        "\n",
        "\n"
      ]
    },
    {
      "cell_type": "code",
      "source": [
        "from google.colab import drive\n",
        "drive.mount('/content/drive')"
      ],
      "metadata": {
        "colab": {
          "base_uri": "https://localhost:8080/"
        },
        "id": "yrc1vfcYdL3s",
        "outputId": "1fc2cce8-8467-4a85-a78a-0a62da905aaa"
      },
      "id": "yrc1vfcYdL3s",
      "execution_count": null,
      "outputs": [
        {
          "output_type": "stream",
          "name": "stdout",
          "text": [
            "Drive already mounted at /content/drive; to attempt to forcibly remount, call drive.mount(\"/content/drive\", force_remount=True).\n"
          ]
        }
      ]
    },
    {
      "cell_type": "code",
      "execution_count": null,
      "id": "d9b6c52a",
      "metadata": {
        "execution": {
          "iopub.execute_input": "2022-02-10T16:52:39.262463Z",
          "iopub.status.busy": "2022-02-10T16:52:39.261519Z",
          "iopub.status.idle": "2022-02-10T16:52:40.876741Z",
          "shell.execute_reply": "2022-02-10T16:52:40.877304Z",
          "shell.execute_reply.started": "2022-02-10T16:50:20.405408Z"
        },
        "papermill": {
          "duration": 1.667873,
          "end_time": "2022-02-10T16:52:40.877624",
          "exception": false,
          "start_time": "2022-02-10T16:52:39.209751",
          "status": "completed"
        },
        "tags": [],
        "id": "d9b6c52a"
      },
      "outputs": [],
      "source": [
        "## import modules\n",
        "import pandas as pd\n",
        "import numpy as np\n",
        "import matplotlib.pyplot as plt\n",
        "import seaborn as sns\n",
        "from sklearn.metrics import confusion_matrix, accuracy_score, classification_report, ConfusionMatrixDisplay\n",
        "from sklearn import preprocessing\n",
        "from sklearn.impute import SimpleImputer\n",
        "from sklearn.model_selection import train_test_split\n",
        "from xgboost import XGBClassifier\n",
        "from sklearn.preprocessing import StandardScaler, LabelEncoder\n",
        "from imblearn.under_sampling import RandomUnderSampler\n",
        "from sklearn import metrics"
      ]
    },
    {
      "cell_type": "markdown",
      "id": "8208010a",
      "metadata": {
        "papermill": {
          "duration": 0.040523,
          "end_time": "2022-02-10T16:52:40.961293",
          "exception": false,
          "start_time": "2022-02-10T16:52:40.920770",
          "status": "completed"
        },
        "tags": [],
        "id": "8208010a"
      },
      "source": [
        "## Exploratory Data Analysis"
      ]
    },
    {
      "cell_type": "code",
      "execution_count": null,
      "id": "63164944",
      "metadata": {
        "execution": {
          "iopub.execute_input": "2022-02-10T16:52:41.049381Z",
          "iopub.status.busy": "2022-02-10T16:52:41.048707Z",
          "iopub.status.idle": "2022-02-10T16:52:43.617425Z",
          "shell.execute_reply": "2022-02-10T16:52:43.618017Z",
          "shell.execute_reply.started": "2022-02-10T16:50:20.433189Z"
        },
        "papermill": {
          "duration": 2.614478,
          "end_time": "2022-02-10T16:52:43.618233",
          "exception": false,
          "start_time": "2022-02-10T16:52:41.003755",
          "status": "completed"
        },
        "tags": [],
        "colab": {
          "base_uri": "https://localhost:8080/",
          "height": 1000
        },
        "id": "63164944",
        "outputId": "e44f0959-8b58-46fc-a536-21307e1ff264"
      },
      "outputs": [
        {
          "output_type": "execute_result",
          "data": {
            "text/plain": [
              "       Date received                  Product                   Sub-product  \\\n",
              "0         2016-10-26          Money transfers  International money transfer   \n",
              "1         2015-03-27  Bank account or service    Other bank product/service   \n",
              "2         2015-04-20  Bank account or service    Other bank product/service   \n",
              "3         2013-04-29                 Mortgage   Conventional fixed mortgage   \n",
              "4         2013-05-29                 Mortgage                Other mortgage   \n",
              "...              ...                      ...                           ...   \n",
              "207255    2015-05-24          Debt collection                   Credit card   \n",
              "207256    2012-01-10                 Mortgage   Conventional fixed mortgage   \n",
              "207257    2012-07-17             Student loan      Non-federal student loan   \n",
              "207258    2016-09-29  Bank account or service              Checking account   \n",
              "207259    2015-04-29                 Mortgage   Conventional fixed mortgage   \n",
              "\n",
              "                                           Issue  \\\n",
              "0                       Other transaction issues   \n",
              "1        Account opening, closing, or management   \n",
              "2       Making/receiving payments, sending money   \n",
              "3       Application, originator, mortgage broker   \n",
              "4       Loan modification,collection,foreclosure   \n",
              "...                                          ...   \n",
              "207255      Taking/threatening an illegal action   \n",
              "207256  Loan modification,collection,foreclosure   \n",
              "207257                        Repaying your loan   \n",
              "207258   Account opening, closing, or management   \n",
              "207259  Loan modification,collection,foreclosure   \n",
              "\n",
              "                                   Sub-issue  \\\n",
              "0                                        NaN   \n",
              "1                                        NaN   \n",
              "2                                        NaN   \n",
              "3                                        NaN   \n",
              "4                                        NaN   \n",
              "...                                      ...   \n",
              "207255  Sued w/o proper notification of suit   \n",
              "207256                                   NaN   \n",
              "207257                                   NaN   \n",
              "207258                                   NaN   \n",
              "207259                                   NaN   \n",
              "\n",
              "                             Consumer complaint narrative  \\\n",
              "0       To whom it concerns, I would like to file a fo...   \n",
              "1       My name is XXXX XXXX XXXX and huband name is X...   \n",
              "2       XXXX 2015 : I called to make a payment on XXXX...   \n",
              "3                                                     NaN   \n",
              "4                                                     NaN   \n",
              "...                                                   ...   \n",
              "207255                                                NaN   \n",
              "207256                                                NaN   \n",
              "207257                                                NaN   \n",
              "207258  Near the end of XXXX 2016 I opened a Citigold ...   \n",
              "207259  My father died in XX/XX/XXXX. Left me his only...   \n",
              "\n",
              "                                  Company public response  \\\n",
              "0       Company has responded to the consumer and the ...   \n",
              "1        Company chooses not to provide a public response   \n",
              "2        Company chooses not to provide a public response   \n",
              "3                                                     NaN   \n",
              "4                                                     NaN   \n",
              "...                                                   ...   \n",
              "207255                                                NaN   \n",
              "207256                                                NaN   \n",
              "207257                                                NaN   \n",
              "207258  Company has responded to the consumer and the ...   \n",
              "207259                                                NaN   \n",
              "\n",
              "                                      Company State ZIP code            Tags  \\\n",
              "0                              CITIBANK, N.A.   NaN      NaN             NaN   \n",
              "1                              CITIBANK, N.A.    PA    151XX  Older American   \n",
              "2                                U.S. BANCORP    PA    152XX             NaN   \n",
              "3                        JPMORGAN CHASE & CO.    VA    22406   Servicemember   \n",
              "4       BANK OF AMERICA, NATIONAL ASSOCIATION    GA    30044             NaN   \n",
              "...                                       ...   ...      ...             ...   \n",
              "207255                   JPMORGAN CHASE & CO.    FL    33133             NaN   \n",
              "207256                   JPMORGAN CHASE & CO.    NY    10312             NaN   \n",
              "207257  BANK OF AMERICA, NATIONAL ASSOCIATION    NH    032XX             NaN   \n",
              "207258                         CITIBANK, N.A.    CA    900XX             NaN   \n",
              "207259                         CITIBANK, N.A.    OK    740XX             NaN   \n",
              "\n",
              "       Consumer consent provided? Submitted via Date sent to company  \\\n",
              "0                Consent provided           Web           2016-10-29   \n",
              "1                Consent provided           Web           2015-03-27   \n",
              "2                Consent provided           Web           2015-04-22   \n",
              "3                             NaN         Phone           2013-04-30   \n",
              "4                             NaN      Referral           2013-05-31   \n",
              "...                           ...           ...                  ...   \n",
              "207255       Consent not provided           Web           2015-05-24   \n",
              "207256                        NaN      Referral           2012-01-11   \n",
              "207257                        NaN           Web           2012-07-18   \n",
              "207258           Consent provided           Web           2016-09-29   \n",
              "207259           Consent provided           Web           2015-04-29   \n",
              "\n",
              "           Company response to consumer Timely response? Consumer disputed?  \\\n",
              "0               Closed with explanation              Yes                 No   \n",
              "1               Closed with explanation              Yes                 No   \n",
              "2           Closed with monetary relief              Yes                 No   \n",
              "3               Closed with explanation              Yes                Yes   \n",
              "4               Closed with explanation              Yes                 No   \n",
              "...                                 ...              ...                ...   \n",
              "207255          Closed with explanation              Yes                 No   \n",
              "207256            Closed without relief              Yes                Yes   \n",
              "207257          Closed with explanation              Yes                 No   \n",
              "207258  Closed with non-monetary relief              Yes                 No   \n",
              "207259          Closed with explanation              Yes                 No   \n",
              "\n",
              "        Complaint ID  \n",
              "0            2180490  \n",
              "1            1305453  \n",
              "2            1337613  \n",
              "3             393900  \n",
              "4             418647  \n",
              "...              ...  \n",
              "207255       1390395  \n",
              "207256         12192  \n",
              "207257        118351  \n",
              "207258       2138969  \n",
              "207259       1352738  \n",
              "\n",
              "[207260 rows x 18 columns]"
            ],
            "text/html": [
              "\n",
              "  <div id=\"df-d9bd7866-9269-4aee-8917-b928482aed94\">\n",
              "    <div class=\"colab-df-container\">\n",
              "      <div>\n",
              "<style scoped>\n",
              "    .dataframe tbody tr th:only-of-type {\n",
              "        vertical-align: middle;\n",
              "    }\n",
              "\n",
              "    .dataframe tbody tr th {\n",
              "        vertical-align: top;\n",
              "    }\n",
              "\n",
              "    .dataframe thead th {\n",
              "        text-align: right;\n",
              "    }\n",
              "</style>\n",
              "<table border=\"1\" class=\"dataframe\">\n",
              "  <thead>\n",
              "    <tr style=\"text-align: right;\">\n",
              "      <th></th>\n",
              "      <th>Date received</th>\n",
              "      <th>Product</th>\n",
              "      <th>Sub-product</th>\n",
              "      <th>Issue</th>\n",
              "      <th>Sub-issue</th>\n",
              "      <th>Consumer complaint narrative</th>\n",
              "      <th>Company public response</th>\n",
              "      <th>Company</th>\n",
              "      <th>State</th>\n",
              "      <th>ZIP code</th>\n",
              "      <th>Tags</th>\n",
              "      <th>Consumer consent provided?</th>\n",
              "      <th>Submitted via</th>\n",
              "      <th>Date sent to company</th>\n",
              "      <th>Company response to consumer</th>\n",
              "      <th>Timely response?</th>\n",
              "      <th>Consumer disputed?</th>\n",
              "      <th>Complaint ID</th>\n",
              "    </tr>\n",
              "  </thead>\n",
              "  <tbody>\n",
              "    <tr>\n",
              "      <th>0</th>\n",
              "      <td>2016-10-26</td>\n",
              "      <td>Money transfers</td>\n",
              "      <td>International money transfer</td>\n",
              "      <td>Other transaction issues</td>\n",
              "      <td>NaN</td>\n",
              "      <td>To whom it concerns, I would like to file a fo...</td>\n",
              "      <td>Company has responded to the consumer and the ...</td>\n",
              "      <td>CITIBANK, N.A.</td>\n",
              "      <td>NaN</td>\n",
              "      <td>NaN</td>\n",
              "      <td>NaN</td>\n",
              "      <td>Consent provided</td>\n",
              "      <td>Web</td>\n",
              "      <td>2016-10-29</td>\n",
              "      <td>Closed with explanation</td>\n",
              "      <td>Yes</td>\n",
              "      <td>No</td>\n",
              "      <td>2180490</td>\n",
              "    </tr>\n",
              "    <tr>\n",
              "      <th>1</th>\n",
              "      <td>2015-03-27</td>\n",
              "      <td>Bank account or service</td>\n",
              "      <td>Other bank product/service</td>\n",
              "      <td>Account opening, closing, or management</td>\n",
              "      <td>NaN</td>\n",
              "      <td>My name is XXXX XXXX XXXX and huband name is X...</td>\n",
              "      <td>Company chooses not to provide a public response</td>\n",
              "      <td>CITIBANK, N.A.</td>\n",
              "      <td>PA</td>\n",
              "      <td>151XX</td>\n",
              "      <td>Older American</td>\n",
              "      <td>Consent provided</td>\n",
              "      <td>Web</td>\n",
              "      <td>2015-03-27</td>\n",
              "      <td>Closed with explanation</td>\n",
              "      <td>Yes</td>\n",
              "      <td>No</td>\n",
              "      <td>1305453</td>\n",
              "    </tr>\n",
              "    <tr>\n",
              "      <th>2</th>\n",
              "      <td>2015-04-20</td>\n",
              "      <td>Bank account or service</td>\n",
              "      <td>Other bank product/service</td>\n",
              "      <td>Making/receiving payments, sending money</td>\n",
              "      <td>NaN</td>\n",
              "      <td>XXXX 2015 : I called to make a payment on XXXX...</td>\n",
              "      <td>Company chooses not to provide a public response</td>\n",
              "      <td>U.S. BANCORP</td>\n",
              "      <td>PA</td>\n",
              "      <td>152XX</td>\n",
              "      <td>NaN</td>\n",
              "      <td>Consent provided</td>\n",
              "      <td>Web</td>\n",
              "      <td>2015-04-22</td>\n",
              "      <td>Closed with monetary relief</td>\n",
              "      <td>Yes</td>\n",
              "      <td>No</td>\n",
              "      <td>1337613</td>\n",
              "    </tr>\n",
              "    <tr>\n",
              "      <th>3</th>\n",
              "      <td>2013-04-29</td>\n",
              "      <td>Mortgage</td>\n",
              "      <td>Conventional fixed mortgage</td>\n",
              "      <td>Application, originator, mortgage broker</td>\n",
              "      <td>NaN</td>\n",
              "      <td>NaN</td>\n",
              "      <td>NaN</td>\n",
              "      <td>JPMORGAN CHASE &amp; CO.</td>\n",
              "      <td>VA</td>\n",
              "      <td>22406</td>\n",
              "      <td>Servicemember</td>\n",
              "      <td>NaN</td>\n",
              "      <td>Phone</td>\n",
              "      <td>2013-04-30</td>\n",
              "      <td>Closed with explanation</td>\n",
              "      <td>Yes</td>\n",
              "      <td>Yes</td>\n",
              "      <td>393900</td>\n",
              "    </tr>\n",
              "    <tr>\n",
              "      <th>4</th>\n",
              "      <td>2013-05-29</td>\n",
              "      <td>Mortgage</td>\n",
              "      <td>Other mortgage</td>\n",
              "      <td>Loan modification,collection,foreclosure</td>\n",
              "      <td>NaN</td>\n",
              "      <td>NaN</td>\n",
              "      <td>NaN</td>\n",
              "      <td>BANK OF AMERICA, NATIONAL ASSOCIATION</td>\n",
              "      <td>GA</td>\n",
              "      <td>30044</td>\n",
              "      <td>NaN</td>\n",
              "      <td>NaN</td>\n",
              "      <td>Referral</td>\n",
              "      <td>2013-05-31</td>\n",
              "      <td>Closed with explanation</td>\n",
              "      <td>Yes</td>\n",
              "      <td>No</td>\n",
              "      <td>418647</td>\n",
              "    </tr>\n",
              "    <tr>\n",
              "      <th>...</th>\n",
              "      <td>...</td>\n",
              "      <td>...</td>\n",
              "      <td>...</td>\n",
              "      <td>...</td>\n",
              "      <td>...</td>\n",
              "      <td>...</td>\n",
              "      <td>...</td>\n",
              "      <td>...</td>\n",
              "      <td>...</td>\n",
              "      <td>...</td>\n",
              "      <td>...</td>\n",
              "      <td>...</td>\n",
              "      <td>...</td>\n",
              "      <td>...</td>\n",
              "      <td>...</td>\n",
              "      <td>...</td>\n",
              "      <td>...</td>\n",
              "      <td>...</td>\n",
              "    </tr>\n",
              "    <tr>\n",
              "      <th>207255</th>\n",
              "      <td>2015-05-24</td>\n",
              "      <td>Debt collection</td>\n",
              "      <td>Credit card</td>\n",
              "      <td>Taking/threatening an illegal action</td>\n",
              "      <td>Sued w/o proper notification of suit</td>\n",
              "      <td>NaN</td>\n",
              "      <td>NaN</td>\n",
              "      <td>JPMORGAN CHASE &amp; CO.</td>\n",
              "      <td>FL</td>\n",
              "      <td>33133</td>\n",
              "      <td>NaN</td>\n",
              "      <td>Consent not provided</td>\n",
              "      <td>Web</td>\n",
              "      <td>2015-05-24</td>\n",
              "      <td>Closed with explanation</td>\n",
              "      <td>Yes</td>\n",
              "      <td>No</td>\n",
              "      <td>1390395</td>\n",
              "    </tr>\n",
              "    <tr>\n",
              "      <th>207256</th>\n",
              "      <td>2012-01-10</td>\n",
              "      <td>Mortgage</td>\n",
              "      <td>Conventional fixed mortgage</td>\n",
              "      <td>Loan modification,collection,foreclosure</td>\n",
              "      <td>NaN</td>\n",
              "      <td>NaN</td>\n",
              "      <td>NaN</td>\n",
              "      <td>JPMORGAN CHASE &amp; CO.</td>\n",
              "      <td>NY</td>\n",
              "      <td>10312</td>\n",
              "      <td>NaN</td>\n",
              "      <td>NaN</td>\n",
              "      <td>Referral</td>\n",
              "      <td>2012-01-11</td>\n",
              "      <td>Closed without relief</td>\n",
              "      <td>Yes</td>\n",
              "      <td>Yes</td>\n",
              "      <td>12192</td>\n",
              "    </tr>\n",
              "    <tr>\n",
              "      <th>207257</th>\n",
              "      <td>2012-07-17</td>\n",
              "      <td>Student loan</td>\n",
              "      <td>Non-federal student loan</td>\n",
              "      <td>Repaying your loan</td>\n",
              "      <td>NaN</td>\n",
              "      <td>NaN</td>\n",
              "      <td>NaN</td>\n",
              "      <td>BANK OF AMERICA, NATIONAL ASSOCIATION</td>\n",
              "      <td>NH</td>\n",
              "      <td>032XX</td>\n",
              "      <td>NaN</td>\n",
              "      <td>NaN</td>\n",
              "      <td>Web</td>\n",
              "      <td>2012-07-18</td>\n",
              "      <td>Closed with explanation</td>\n",
              "      <td>Yes</td>\n",
              "      <td>No</td>\n",
              "      <td>118351</td>\n",
              "    </tr>\n",
              "    <tr>\n",
              "      <th>207258</th>\n",
              "      <td>2016-09-29</td>\n",
              "      <td>Bank account or service</td>\n",
              "      <td>Checking account</td>\n",
              "      <td>Account opening, closing, or management</td>\n",
              "      <td>NaN</td>\n",
              "      <td>Near the end of XXXX 2016 I opened a Citigold ...</td>\n",
              "      <td>Company has responded to the consumer and the ...</td>\n",
              "      <td>CITIBANK, N.A.</td>\n",
              "      <td>CA</td>\n",
              "      <td>900XX</td>\n",
              "      <td>NaN</td>\n",
              "      <td>Consent provided</td>\n",
              "      <td>Web</td>\n",
              "      <td>2016-09-29</td>\n",
              "      <td>Closed with non-monetary relief</td>\n",
              "      <td>Yes</td>\n",
              "      <td>No</td>\n",
              "      <td>2138969</td>\n",
              "    </tr>\n",
              "    <tr>\n",
              "      <th>207259</th>\n",
              "      <td>2015-04-29</td>\n",
              "      <td>Mortgage</td>\n",
              "      <td>Conventional fixed mortgage</td>\n",
              "      <td>Loan modification,collection,foreclosure</td>\n",
              "      <td>NaN</td>\n",
              "      <td>My father died in XX/XX/XXXX. Left me his only...</td>\n",
              "      <td>NaN</td>\n",
              "      <td>CITIBANK, N.A.</td>\n",
              "      <td>OK</td>\n",
              "      <td>740XX</td>\n",
              "      <td>NaN</td>\n",
              "      <td>Consent provided</td>\n",
              "      <td>Web</td>\n",
              "      <td>2015-04-29</td>\n",
              "      <td>Closed with explanation</td>\n",
              "      <td>Yes</td>\n",
              "      <td>No</td>\n",
              "      <td>1352738</td>\n",
              "    </tr>\n",
              "  </tbody>\n",
              "</table>\n",
              "<p>207260 rows × 18 columns</p>\n",
              "</div>\n",
              "      <button class=\"colab-df-convert\" onclick=\"convertToInteractive('df-d9bd7866-9269-4aee-8917-b928482aed94')\"\n",
              "              title=\"Convert this dataframe to an interactive table.\"\n",
              "              style=\"display:none;\">\n",
              "        \n",
              "  <svg xmlns=\"http://www.w3.org/2000/svg\" height=\"24px\"viewBox=\"0 0 24 24\"\n",
              "       width=\"24px\">\n",
              "    <path d=\"M0 0h24v24H0V0z\" fill=\"none\"/>\n",
              "    <path d=\"M18.56 5.44l.94 2.06.94-2.06 2.06-.94-2.06-.94-.94-2.06-.94 2.06-2.06.94zm-11 1L8.5 8.5l.94-2.06 2.06-.94-2.06-.94L8.5 2.5l-.94 2.06-2.06.94zm10 10l.94 2.06.94-2.06 2.06-.94-2.06-.94-.94-2.06-.94 2.06-2.06.94z\"/><path d=\"M17.41 7.96l-1.37-1.37c-.4-.4-.92-.59-1.43-.59-.52 0-1.04.2-1.43.59L10.3 9.45l-7.72 7.72c-.78.78-.78 2.05 0 2.83L4 21.41c.39.39.9.59 1.41.59.51 0 1.02-.2 1.41-.59l7.78-7.78 2.81-2.81c.8-.78.8-2.07 0-2.86zM5.41 20L4 18.59l7.72-7.72 1.47 1.35L5.41 20z\"/>\n",
              "  </svg>\n",
              "      </button>\n",
              "      \n",
              "  <style>\n",
              "    .colab-df-container {\n",
              "      display:flex;\n",
              "      flex-wrap:wrap;\n",
              "      gap: 12px;\n",
              "    }\n",
              "\n",
              "    .colab-df-convert {\n",
              "      background-color: #E8F0FE;\n",
              "      border: none;\n",
              "      border-radius: 50%;\n",
              "      cursor: pointer;\n",
              "      display: none;\n",
              "      fill: #1967D2;\n",
              "      height: 32px;\n",
              "      padding: 0 0 0 0;\n",
              "      width: 32px;\n",
              "    }\n",
              "\n",
              "    .colab-df-convert:hover {\n",
              "      background-color: #E2EBFA;\n",
              "      box-shadow: 0px 1px 2px rgba(60, 64, 67, 0.3), 0px 1px 3px 1px rgba(60, 64, 67, 0.15);\n",
              "      fill: #174EA6;\n",
              "    }\n",
              "\n",
              "    [theme=dark] .colab-df-convert {\n",
              "      background-color: #3B4455;\n",
              "      fill: #D2E3FC;\n",
              "    }\n",
              "\n",
              "    [theme=dark] .colab-df-convert:hover {\n",
              "      background-color: #434B5C;\n",
              "      box-shadow: 0px 1px 3px 1px rgba(0, 0, 0, 0.15);\n",
              "      filter: drop-shadow(0px 1px 2px rgba(0, 0, 0, 0.3));\n",
              "      fill: #FFFFFF;\n",
              "    }\n",
              "  </style>\n",
              "\n",
              "      <script>\n",
              "        const buttonEl =\n",
              "          document.querySelector('#df-d9bd7866-9269-4aee-8917-b928482aed94 button.colab-df-convert');\n",
              "        buttonEl.style.display =\n",
              "          google.colab.kernel.accessAllowed ? 'block' : 'none';\n",
              "\n",
              "        async function convertToInteractive(key) {\n",
              "          const element = document.querySelector('#df-d9bd7866-9269-4aee-8917-b928482aed94');\n",
              "          const dataTable =\n",
              "            await google.colab.kernel.invokeFunction('convertToInteractive',\n",
              "                                                     [key], {});\n",
              "          if (!dataTable) return;\n",
              "\n",
              "          const docLinkHtml = 'Like what you see? Visit the ' +\n",
              "            '<a target=\"_blank\" href=https://colab.research.google.com/notebooks/data_table.ipynb>data table notebook</a>'\n",
              "            + ' to learn more about interactive tables.';\n",
              "          element.innerHTML = '';\n",
              "          dataTable['output_type'] = 'display_data';\n",
              "          await google.colab.output.renderOutput(dataTable, element);\n",
              "          const docLink = document.createElement('div');\n",
              "          docLink.innerHTML = docLinkHtml;\n",
              "          element.appendChild(docLink);\n",
              "        }\n",
              "      </script>\n",
              "    </div>\n",
              "  </div>\n",
              "  "
            ]
          },
          "metadata": {},
          "execution_count": 69
        }
      ],
      "source": [
        "# import data\n",
        "df = pd.DataFrame(pd.read_csv('/content/drive/MyDrive/complaints_25Nov21.csv'))\n",
        "df"
      ]
    },
    {
      "cell_type": "code",
      "execution_count": null,
      "id": "778dd0a4",
      "metadata": {
        "execution": {
          "iopub.execute_input": "2022-02-10T16:52:43.745505Z",
          "iopub.status.busy": "2022-02-10T16:52:43.744092Z",
          "iopub.status.idle": "2022-02-10T16:52:43.752664Z",
          "shell.execute_reply": "2022-02-10T16:52:43.752087Z",
          "shell.execute_reply.started": "2022-02-10T16:50:21.449957Z"
        },
        "papermill": {
          "duration": 0.091889,
          "end_time": "2022-02-10T16:52:43.752848",
          "exception": false,
          "start_time": "2022-02-10T16:52:43.660959",
          "status": "completed"
        },
        "tags": [],
        "colab": {
          "base_uri": "https://localhost:8080/"
        },
        "id": "778dd0a4",
        "outputId": "a37c2a48-6678-4fe3-a951-8ee17a1c1e45"
      },
      "outputs": [
        {
          "output_type": "execute_result",
          "data": {
            "text/plain": [
              "No     162357\n",
              "Yes     44903\n",
              "Name: Consumer disputed?, dtype: int64"
            ]
          },
          "metadata": {},
          "execution_count": 70
        }
      ],
      "source": [
        "# Find the responses we have for the target variable\n",
        "df['Consumer disputed?'].value_counts()"
      ]
    },
    {
      "cell_type": "code",
      "execution_count": null,
      "id": "adcf4e72",
      "metadata": {
        "execution": {
          "iopub.execute_input": "2022-02-10T16:52:44.157961Z",
          "iopub.status.busy": "2022-02-10T16:52:44.156979Z",
          "iopub.status.idle": "2022-02-10T16:52:44.170606Z",
          "shell.execute_reply": "2022-02-10T16:52:44.170054Z",
          "shell.execute_reply.started": "2022-02-10T16:50:21.474422Z"
        },
        "papermill": {
          "duration": 0.375096,
          "end_time": "2022-02-10T16:52:44.170745",
          "exception": false,
          "start_time": "2022-02-10T16:52:43.795649",
          "status": "completed"
        },
        "tags": [],
        "colab": {
          "base_uri": "https://localhost:8080/"
        },
        "id": "adcf4e72",
        "outputId": "88e3de39-a288-4fa4-9a05-4c1caf040a74"
      },
      "outputs": [
        {
          "output_type": "execute_result",
          "data": {
            "text/plain": [
              "Date received                        0\n",
              "Product                              0\n",
              "Sub-product                      43015\n",
              "Issue                                0\n",
              "Sub-issue                       196913\n",
              "Consumer complaint narrative    177869\n",
              "Company public response         148802\n",
              "Company                              0\n",
              "State                             2194\n",
              "ZIP code                          9286\n",
              "Tags                            178995\n",
              "Consumer consent provided?      155947\n",
              "Submitted via                        0\n",
              "Date sent to company                 0\n",
              "Company response to consumer         0\n",
              "Timely response?                     0\n",
              "Consumer disputed?                   0\n",
              "Complaint ID                         0\n",
              "dtype: int64"
            ]
          },
          "metadata": {},
          "execution_count": 71
        }
      ],
      "source": [
        "# Null-values?\n",
        "df.isnull().sum()"
      ]
    },
    {
      "cell_type": "markdown",
      "id": "dddfe2fc",
      "metadata": {
        "papermill": {
          "duration": 0.043438,
          "end_time": "2022-02-10T16:52:44.256893",
          "exception": false,
          "start_time": "2022-02-10T16:52:44.213455",
          "status": "completed"
        },
        "tags": [],
        "id": "dddfe2fc"
      },
      "source": [
        "**Initial thoughts**\n",
        "With 207260 rows of data, we have a huge dataset. While this is very exciting I also need to be very selective with how I preprocess the data, which features I select or feature engineer into my model given that I'm just working with my personal computer.\n",
        "\n",
        "Columns:\n",
        "* Date received - drop\n",
        "* Products - keep\n",
        "* Sub-product - unsure\n",
        "* Issue - drop (issues are related to products, let's avoid redundancy)\n",
        "* Sub-issue - drop (high cardinality, the big picture is likely captured by Products)\n",
        "* Consumer complaint narrative - keep for FE (given the size of our dataset, closely analyzing the narrative will be computationally very costly but let's find another way to use this data)\n",
        "* Company public response - keep\n",
        "* Company - drop (the assignment specified building a model for the five biggest banks, not for any individual bank; the dataset includes only complaints from these five banks)\n",
        "* State - unsure (Again, this this column of categorial data has high cardinality but includes nonetheless probably useful data)\n",
        "* ZIP code - drop\n",
        "* Tags - keep for FE\n",
        "* Consumer consent provided? - drop\n",
        "* Submitted via - keep for FE\n",
        "* Data sent to company - drop\n",
        "* Company response to consumer - keep for FE\n",
        "* Timely response? - drop\n",
        "* Consumer disputed? - Target variable\n",
        "* Complaint ID - drop\n"
      ]
    },
    {
      "cell_type": "code",
      "source": [
        "# Split between yes and no\n",
        "import matplotlib.pyplot as plt\n",
        "\n",
        "df['Consumer disputed?'].value_counts().plot(kind='bar')\n",
        "\n",
        "for i, (value, count) in enumerate(df['Consumer disputed?'].value_counts().items()):\n",
        "  plt.annotate(str(count), xy=(i, count), ha='center', va='bottom')\n",
        "\n",
        "plt.title('Consumer Disputed?')\n",
        "plt.xlabel('Yes or No')\n",
        "plt.ylabel('Count')\n",
        "plt.show()"
      ],
      "metadata": {
        "colab": {
          "base_uri": "https://localhost:8080/",
          "height": 480
        },
        "id": "EUwcDNnCPHXQ",
        "outputId": "2f6d6ad6-2c4b-427c-bf43-9a9b31aac195"
      },
      "id": "EUwcDNnCPHXQ",
      "execution_count": null,
      "outputs": [
        {
          "output_type": "display_data",
          "data": {
            "text/plain": [
              "<Figure size 640x480 with 1 Axes>"
            ],
            "image/png": "[encoded data removed]"
          },
          "metadata": {}
        }
      ]
    },
    {
      "cell_type": "code",
      "source": [
        "fig = plt.figure(figsize=(20,12))\n",
        "df.groupby(['State'])['Complaint ID'].count().sort_values().plot.barh(\n",
        "    ylim=0, color='blue', title= 'NUMBER OF COMPLAINTS STATE WISE\\n')\n",
        "plt.xlabel('Number of ocurrences', fontsize = 10);"
      ],
      "metadata": {
        "colab": {
          "base_uri": "https://localhost:8080/",
          "height": 1000
        },
        "id": "g9CfuKf4R-OX",
        "outputId": "caa2274c-c0e6-4017-fb69-d64803597d58"
      },
      "id": "g9CfuKf4R-OX",
      "execution_count": null,
      "outputs": [
        {
          "output_type": "display_data",
          "data": {
            "text/plain": [
              "<Figure size 2000x1200 with 1 Axes>"
            ],
            "image/png": "[encoded data removed]"
          },
          "metadata": {}
        }
      ]
    },
    {
      "cell_type": "markdown",
      "source": [
        "California State has the most number of complaints"
      ],
      "metadata": {
        "id": "fSKmLVndMVAR"
      },
      "id": "fSKmLVndMVAR"
    },
    {
      "cell_type": "code",
      "execution_count": null,
      "id": "40ea4c94",
      "metadata": {
        "execution": {
          "iopub.execute_input": "2022-02-10T16:52:45.452599Z",
          "iopub.status.busy": "2022-02-10T16:52:45.451500Z",
          "iopub.status.idle": "2022-02-10T16:52:45.453448Z",
          "shell.execute_reply": "2022-02-10T16:52:45.453997Z",
          "shell.execute_reply.started": "2022-02-10T16:50:22.314421Z"
        },
        "papermill": {
          "duration": 0.054767,
          "end_time": "2022-02-10T16:52:45.454188",
          "exception": false,
          "start_time": "2022-02-10T16:52:45.399421",
          "status": "completed"
        },
        "tags": [],
        "id": "40ea4c94"
      },
      "outputs": [],
      "source": [
        "# function to see the how frequently each product gets dipsuted\n",
        "def get_percent(prod):\n",
        "    prod_yes = len(df.loc[(df['Product']==prod) & (df['Consumer disputed?'] == 'Yes')])\n",
        "    return float(prod_yes/len(df.loc[df['Product']==prod]))"
      ]
    },
    {
      "cell_type": "code",
      "execution_count": null,
      "id": "50719001",
      "metadata": {
        "execution": {
          "iopub.execute_input": "2022-02-10T16:52:45.554847Z",
          "iopub.status.busy": "2022-02-10T16:52:45.553864Z",
          "iopub.status.idle": "2022-02-10T16:52:46.698980Z",
          "shell.execute_reply": "2022-02-10T16:52:46.698351Z",
          "shell.execute_reply.started": "2022-02-10T16:50:22.321935Z"
        },
        "papermill": {
          "duration": 1.200252,
          "end_time": "2022-02-10T16:52:46.699151",
          "exception": false,
          "start_time": "2022-02-10T16:52:45.498899",
          "status": "completed"
        },
        "tags": [],
        "colab": {
          "base_uri": "https://localhost:8080/"
        },
        "id": "50719001",
        "outputId": "f660028d-e59c-46ea-dede-e24e8e4f7984"
      },
      "outputs": [
        {
          "output_type": "execute_result",
          "data": {
            "text/plain": [
              "[('Payday loan', 0.1566265060240964),\n",
              " ('Credit reporting', 0.16734143049932523),\n",
              " ('Prepaid card', 0.1700787401574803),\n",
              " ('Debt collection', 0.18916168426408853),\n",
              " ('Bank account or service', 0.19233529174328384),\n",
              " ('Consumer Loan', 0.21405228758169934),\n",
              " ('Credit card', 0.21689459837406083),\n",
              " ('Student loan', 0.22365666434054432),\n",
              " ('Mortgage', 0.229720692368214),\n",
              " ('Other financial service', 0.23706896551724138),\n",
              " ('Money transfers', 0.24165707710011508)]"
            ]
          },
          "metadata": {},
          "execution_count": 75
        }
      ],
      "source": [
        "product_key = df['Product'].unique().tolist()\n",
        "values = [get_percent(prod) for prod in product_key]\n",
        "product_dict = dict(zip(product_key, values))\n",
        "\n",
        "sorted(product_dict.items(), key=lambda x: x[1], reverse=False)"
      ]
    },
    {
      "cell_type": "code",
      "source": [
        "# Top 5 Products\n",
        "df[df['State'] == 'CA']['Product'].value_counts().head(5).plot.pie(explode=[0.2,0,0,0,0],shadow=True)\n",
        "# Unsquish the pie.\n",
        "import matplotlib.pyplot as plt\n",
        "plt.gca().set_aspect('equal')"
      ],
      "metadata": {
        "colab": {
          "base_uri": "https://localhost:8080/",
          "height": 420
        },
        "id": "LGBby_P-SMZm",
        "outputId": "ce3320fa-10ab-45e7-82dd-add8b78b5a74"
      },
      "id": "LGBby_P-SMZm",
      "execution_count": null,
      "outputs": [
        {
          "output_type": "display_data",
          "data": {
            "text/plain": [
              "<Figure size 640x480 with 1 Axes>"
            ],
            "image/png": "[encoded data removed]"
          },
          "metadata": {}
        }
      ]
    },
    {
      "cell_type": "markdown",
      "id": "bc67410a",
      "metadata": {
        "papermill": {
          "duration": 0.045498,
          "end_time": "2022-02-10T16:52:46.790493",
          "exception": false,
          "start_time": "2022-02-10T16:52:46.744995",
          "status": "completed"
        },
        "tags": [],
        "id": "bc67410a"
      },
      "source": [
        "When I was experimenting with developing a new feature using the 'Product' data I found that encoding by the % of the complaints that were disputed by product category performed better than an ordinal ranking of this frequency. Consequently, I included the former in my model."
      ]
    },
    {
      "cell_type": "code",
      "execution_count": null,
      "id": "25e0e24f",
      "metadata": {
        "execution": {
          "iopub.execute_input": "2022-02-10T16:52:46.884875Z",
          "iopub.status.busy": "2022-02-10T16:52:46.884214Z",
          "iopub.status.idle": "2022-02-10T16:52:47.534786Z",
          "shell.execute_reply": "2022-02-10T16:52:47.535361Z",
          "shell.execute_reply.started": "2022-02-10T16:50:22.877620Z"
        },
        "papermill": {
          "duration": 0.700093,
          "end_time": "2022-02-10T16:52:47.535568",
          "exception": false,
          "start_time": "2022-02-10T16:52:46.835475",
          "status": "completed"
        },
        "tags": [],
        "colab": {
          "base_uri": "https://localhost:8080/",
          "height": 520
        },
        "id": "25e0e24f",
        "outputId": "1f2d1fc6-3920-45b7-884e-c8f5a5de83ae"
      },
      "outputs": [
        {
          "output_type": "display_data",
          "data": {
            "text/plain": [
              "<Figure size 640x480 with 1 Axes>"
            ],
            "image/png": "[encoded data removed]"
          },
          "metadata": {}
        }
      ],
      "source": [
        "import matplotlib.pyplot as plt\n",
        "import seaborn as sns\n",
        "\n",
        "ax = sns.countplot(x='Submitted via', data=df, hue='Consumer disputed?')\n",
        "\n",
        "# Calculate and display percentage values\n",
        "total = float(len(df))\n",
        "for p in ax.patches:\n",
        "    height = p.get_height()\n",
        "    ax.text(p.get_x()+p.get_width()/2.,\n",
        "            height + 3,\n",
        "            '{:.1f}%'.format((height/total)*100),\n",
        "            ha=\"center\")\n",
        "\n",
        "plt.xticks(rotation=45)\n",
        "ax.set_title('Method of Submission and Disputes')\n",
        "plt.show()"
      ]
    },
    {
      "cell_type": "markdown",
      "source": [
        "Visulaization of disputes with respect to the way of submission"
      ],
      "metadata": {
        "id": "2ZMnDEeyMvQu"
      },
      "id": "2ZMnDEeyMvQu"
    },
    {
      "cell_type": "code",
      "execution_count": null,
      "id": "d8e96ad6",
      "metadata": {
        "execution": {
          "iopub.execute_input": "2022-02-10T16:52:47.639715Z",
          "iopub.status.busy": "2022-02-10T16:52:47.638686Z",
          "iopub.status.idle": "2022-02-10T16:52:47.641913Z",
          "shell.execute_reply": "2022-02-10T16:52:47.641235Z",
          "shell.execute_reply.started": "2022-02-10T16:50:23.353397Z"
        },
        "papermill": {
          "duration": 0.058404,
          "end_time": "2022-02-10T16:52:47.642074",
          "exception": false,
          "start_time": "2022-02-10T16:52:47.583670",
          "status": "completed"
        },
        "tags": [],
        "id": "d8e96ad6"
      },
      "outputs": [],
      "source": [
        "# function to see the distrubution how the dipsuted complaints were submitted\n",
        "def get_percent_s(prod):\n",
        "    prod_yes = len(df.loc[(df['Submitted via']==prod) & (df['Consumer disputed?'] == 'Yes')])\n",
        "    return float(prod_yes/len(df.loc[df['Submitted via']==prod]))"
      ]
    },
    {
      "cell_type": "code",
      "execution_count": null,
      "id": "3774cfc3",
      "metadata": {
        "execution": {
          "iopub.execute_input": "2022-02-10T16:52:47.740273Z",
          "iopub.status.busy": "2022-02-10T16:52:47.739521Z",
          "iopub.status.idle": "2022-02-10T16:52:48.410762Z",
          "shell.execute_reply": "2022-02-10T16:52:48.410220Z",
          "shell.execute_reply.started": "2022-02-10T16:50:23.359899Z"
        },
        "papermill": {
          "duration": 0.721835,
          "end_time": "2022-02-10T16:52:48.410938",
          "exception": false,
          "start_time": "2022-02-10T16:52:47.689103",
          "status": "completed"
        },
        "tags": [],
        "colab": {
          "base_uri": "https://localhost:8080/",
          "height": 563
        },
        "id": "3774cfc3",
        "outputId": "367840cc-8b61-4816-a7a6-26d72ef30ebd"
      },
      "outputs": [
        {
          "output_type": "display_data",
          "data": {
            "text/plain": [
              "<Figure size 800x600 with 1 Axes>"
            ],
            "image/png": "[encoded data removed]"
          },
          "metadata": {}
        }
      ],
      "source": [
        "# submission_key = df['Submitted via'].unique().tolist()\n",
        "# values = [get_percent_s(s) for s in submission_key]\n",
        "# submission_dict = dict(zip(submission_key, values))\n",
        "\n",
        "# sorted(submission_dict.items(), key=lambda x: x[1], reverse=False)\n",
        "submission_key = df['Submitted via'].unique().tolist()\n",
        "values = [get_percent_s(s) for s in submission_key]\n",
        "submission_dict = dict(zip(submission_key, values))\n",
        "\n",
        "# Sort the dictionary in ascending order of percentage\n",
        "sorted_dict = dict(sorted(submission_dict.items(), key=lambda x: x[1], reverse=False))\n",
        "\n",
        "# Create the horizontal bar chart\n",
        "fig, ax = plt.subplots(figsize=(8,6))\n",
        "ax.barh(list(sorted_dict.keys()), list(sorted_dict.values()), color='blue')\n",
        "ax.set_xlabel('Percentage')\n",
        "ax.set_ylabel('Submission Method')\n",
        "ax.set_title('Distribution of Submission Methods')\n",
        "plt.show()"
      ]
    },
    {
      "cell_type": "markdown",
      "id": "495c249a",
      "metadata": {
        "papermill": {
          "duration": 0.046639,
          "end_time": "2022-02-10T16:52:48.505160",
          "exception": false,
          "start_time": "2022-02-10T16:52:48.458521",
          "status": "completed"
        },
        "tags": [],
        "id": "495c249a"
      },
      "source": [
        "Again, while modeling I found that encoding the 'Submitted via' data by the % of the complaints that were disputed by submission method performed better than an ordinal ranking of the frequency."
      ]
    },
    {
      "cell_type": "code",
      "execution_count": null,
      "id": "aa05303d",
      "metadata": {
        "execution": {
          "iopub.execute_input": "2022-02-10T16:52:48.602730Z",
          "iopub.status.busy": "2022-02-10T16:52:48.602108Z",
          "iopub.status.idle": "2022-02-10T16:52:48.616080Z",
          "shell.execute_reply": "2022-02-10T16:52:48.616743Z",
          "shell.execute_reply.started": "2022-02-10T16:50:23.751136Z"
        },
        "papermill": {
          "duration": 0.064608,
          "end_time": "2022-02-10T16:52:48.616962",
          "exception": false,
          "start_time": "2022-02-10T16:52:48.552354",
          "status": "completed"
        },
        "tags": [],
        "colab": {
          "base_uri": "https://localhost:8080/"
        },
        "id": "aa05303d",
        "outputId": "3621556a-dd9f-41d7-cef8-1b400a138fd9"
      },
      "outputs": [
        {
          "output_type": "execute_result",
          "data": {
            "text/plain": [
              "58"
            ]
          },
          "metadata": {},
          "execution_count": 13
        }
      ],
      "source": [
        "# Sub issue\n",
        "len(set(df['Sub-issue'].values.tolist()))"
      ]
    },
    {
      "cell_type": "markdown",
      "id": "887f19ed",
      "metadata": {
        "papermill": {
          "duration": 0.047163,
          "end_time": "2022-02-10T16:52:48.711519",
          "exception": false,
          "start_time": "2022-02-10T16:52:48.664356",
          "status": "completed"
        },
        "tags": [],
        "id": "887f19ed"
      },
      "source": [
        "Very high cardinality - dropping this feature."
      ]
    },
    {
      "cell_type": "code",
      "execution_count": null,
      "id": "f6f58b17",
      "metadata": {
        "execution": {
          "iopub.execute_input": "2022-02-10T16:52:48.815115Z",
          "iopub.status.busy": "2022-02-10T16:52:48.814452Z",
          "iopub.status.idle": "2022-02-10T16:52:48.828148Z",
          "shell.execute_reply": "2022-02-10T16:52:48.828774Z",
          "shell.execute_reply.started": "2022-02-10T16:50:23.766267Z"
        },
        "papermill": {
          "duration": 0.067293,
          "end_time": "2022-02-10T16:52:48.828990",
          "exception": false,
          "start_time": "2022-02-10T16:52:48.761697",
          "status": "completed"
        },
        "tags": [],
        "colab": {
          "base_uri": "https://localhost:8080/"
        },
        "id": "f6f58b17",
        "outputId": "4383c2e2-e20f-4c57-bb8f-702c5282fd04"
      },
      "outputs": [
        {
          "output_type": "execute_result",
          "data": {
            "text/plain": [
              "['Older American, Servicemember', 'Older American', nan, 'Servicemember']"
            ]
          },
          "metadata": {},
          "execution_count": 14
        }
      ],
      "source": [
        "# Tags\n",
        "tags = list(set(df['Tags'].values.tolist()))\n",
        "tags"
      ]
    },
    {
      "cell_type": "code",
      "execution_count": null,
      "id": "e86e5d79",
      "metadata": {
        "execution": {
          "iopub.execute_input": "2022-02-10T16:52:48.934584Z",
          "iopub.status.busy": "2022-02-10T16:52:48.933876Z",
          "iopub.status.idle": "2022-02-10T16:52:48.937260Z",
          "shell.execute_reply": "2022-02-10T16:52:48.936562Z",
          "shell.execute_reply.started": "2022-02-10T16:50:23.789580Z"
        },
        "papermill": {
          "duration": 0.060421,
          "end_time": "2022-02-10T16:52:48.937428",
          "exception": false,
          "start_time": "2022-02-10T16:52:48.877007",
          "status": "completed"
        },
        "tags": [],
        "id": "e86e5d79"
      },
      "outputs": [],
      "source": [
        "# Consumer Complaint Narrative\n",
        "ccn = df['Consumer complaint narrative'].values.tolist()"
      ]
    },
    {
      "cell_type": "code",
      "execution_count": null,
      "id": "ef60b753",
      "metadata": {
        "execution": {
          "iopub.execute_input": "2022-02-10T16:52:49.084132Z",
          "iopub.status.busy": "2022-02-10T16:52:49.051923Z",
          "iopub.status.idle": "2022-02-10T16:52:49.114732Z",
          "shell.execute_reply": "2022-02-10T16:52:49.114067Z",
          "shell.execute_reply.started": "2022-02-10T16:50:23.805416Z"
        },
        "papermill": {
          "duration": 0.129219,
          "end_time": "2022-02-10T16:52:49.114908",
          "exception": false,
          "start_time": "2022-02-10T16:52:48.985689",
          "status": "completed"
        },
        "tags": [],
        "colab": {
          "base_uri": "https://localhost:8080/"
        },
        "id": "ef60b753",
        "outputId": "0eb39b0f-7b2e-4bf3-94a3-70fd1c7ca9a6"
      },
      "outputs": [
        {
          "output_type": "execute_result",
          "data": {
            "text/plain": [
              "0.23939301146609507"
            ]
          },
          "metadata": {},
          "execution_count": 16
        }
      ],
      "source": [
        "# what percentage of ccns disputed?\n",
        "ccn_yes = len(df.loc[(df['Consumer complaint narrative'].notnull()) & (df['Consumer disputed?'] == 'Yes')])\n",
        "ccn_yes/len(df.loc[(df['Consumer complaint narrative'].notnull())])"
      ]
    },
    {
      "cell_type": "markdown",
      "id": "815ab3fa",
      "metadata": {
        "papermill": {
          "duration": 0.047098,
          "end_time": "2022-02-10T16:52:49.210151",
          "exception": false,
          "start_time": "2022-02-10T16:52:49.163053",
          "status": "completed"
        },
        "tags": [],
        "id": "815ab3fa"
      },
      "source": [
        "The majority of the complaints were not disputed. To adequately train the model, we must try to balance the classes."
      ]
    },
    {
      "cell_type": "code",
      "execution_count": null,
      "id": "739de37d",
      "metadata": {
        "execution": {
          "iopub.execute_input": "2022-02-10T16:52:49.311037Z",
          "iopub.status.busy": "2022-02-10T16:52:49.310345Z",
          "iopub.status.idle": "2022-02-10T16:52:49.312398Z",
          "shell.execute_reply": "2022-02-10T16:52:49.312987Z",
          "shell.execute_reply.started": "2022-02-10T16:50:23.872764Z"
        },
        "papermill": {
          "duration": 0.05481,
          "end_time": "2022-02-10T16:52:49.313158",
          "exception": false,
          "start_time": "2022-02-10T16:52:49.258348",
          "status": "completed"
        },
        "tags": [],
        "id": "739de37d"
      },
      "outputs": [],
      "source": [
        "# function to get word count complaint\n",
        "def get_wc(complaint):\n",
        "    print(complaint)\n",
        "    return len(complaint)"
      ]
    },
    {
      "cell_type": "code",
      "execution_count": null,
      "id": "2a312a1f",
      "metadata": {
        "execution": {
          "iopub.execute_input": "2022-02-10T16:52:49.412075Z",
          "iopub.status.busy": "2022-02-10T16:52:49.411440Z",
          "iopub.status.idle": "2022-02-10T16:52:50.926421Z",
          "shell.execute_reply": "2022-02-10T16:52:50.925774Z",
          "shell.execute_reply.started": "2022-02-10T16:50:23.879059Z"
        },
        "papermill": {
          "duration": 1.56571,
          "end_time": "2022-02-10T16:52:50.926579",
          "exception": false,
          "start_time": "2022-02-10T16:52:49.360869",
          "status": "completed"
        },
        "tags": [],
        "id": "2a312a1f"
      },
      "outputs": [],
      "source": [
        "word_count = df['Consumer complaint narrative'].str.split().str.len()\n",
        "df['CCN wordcount'] = word_count"
      ]
    },
    {
      "cell_type": "code",
      "execution_count": null,
      "id": "e8e4569b",
      "metadata": {
        "execution": {
          "iopub.execute_input": "2022-02-10T16:52:51.226893Z",
          "iopub.status.busy": "2022-02-10T16:52:51.225926Z",
          "iopub.status.idle": "2022-02-10T16:52:51.575897Z",
          "shell.execute_reply": "2022-02-10T16:52:51.575236Z",
          "shell.execute_reply.started": "2022-02-10T16:50:25.013284Z"
        },
        "papermill": {
          "duration": 0.600841,
          "end_time": "2022-02-10T16:52:51.576054",
          "exception": false,
          "start_time": "2022-02-10T16:52:50.975213",
          "status": "completed"
        },
        "tags": [],
        "colab": {
          "base_uri": "https://localhost:8080/",
          "height": 541
        },
        "id": "e8e4569b",
        "outputId": "e5069b36-e2d2-49c7-9b84-7cfbab8cf7df"
      },
      "outputs": [
        {
          "output_type": "display_data",
          "data": {
            "text/plain": [
              "<Figure size 800x600 with 1 Axes>"
            ],
            "image/png": "[encoded data removed]"
          },
          "metadata": {}
        }
      ],
      "source": [
        "# Create the boxplots\n",
        "f, ax = plt.subplots(figsize=(8, 6))\n",
        "fig = sns.boxplot(y='CCN wordcount', x='Consumer disputed?', data=df);\n",
        "# To keep in mind, when input data contains NaN, it will automaically be filled with 0"
      ]
    },
    {
      "cell_type": "code",
      "execution_count": null,
      "id": "f690f230",
      "metadata": {
        "execution": {
          "iopub.execute_input": "2022-02-10T16:52:51.677158Z",
          "iopub.status.busy": "2022-02-10T16:52:51.676502Z",
          "iopub.status.idle": "2022-02-10T16:52:52.210231Z",
          "shell.execute_reply": "2022-02-10T16:52:52.209661Z",
          "shell.execute_reply.started": "2022-02-10T16:50:25.453163Z"
        },
        "papermill": {
          "duration": 0.585297,
          "end_time": "2022-02-10T16:52:52.210445",
          "exception": false,
          "start_time": "2022-02-10T16:52:51.625148",
          "status": "completed"
        },
        "tags": [],
        "colab": {
          "base_uri": "https://localhost:8080/",
          "height": 541
        },
        "id": "f690f230",
        "outputId": "22251c71-dd4c-4ed9-e32f-3002a82aecc8"
      },
      "outputs": [
        {
          "output_type": "display_data",
          "data": {
            "text/plain": [
              "<Figure size 800x600 with 1 Axes>"
            ],
            "image/png": "[encoded data removed]"
          },
          "metadata": {}
        }
      ],
      "source": [
        "# Compare with previous plot, this time don't fill in 0s for NaN\n",
        "f, ax = plt.subplots(figsize=(8, 6))\n",
        "fig = sns.boxplot(y='CCN wordcount', x='Consumer disputed?', data=df.dropna());"
      ]
    },
    {
      "cell_type": "markdown",
      "id": "1726e72c",
      "metadata": {
        "papermill": {
          "duration": 0.049754,
          "end_time": "2022-02-10T16:52:52.310505",
          "exception": false,
          "start_time": "2022-02-10T16:52:52.260751",
          "status": "completed"
        },
        "tags": [],
        "id": "1726e72c"
      },
      "source": [
        "Generally, complaints with higher word counts are less likely to get disputed.\n",
        "Earlier I considered grouping the word count but now I'm thinking that our model won't have alot of numerical data and that would be difficult for humans to choose a good cut-off for groups - leave 'CNN' Wordcount as its own feature but normalize it to improve performance in the model."
      ]
    },
    {
      "cell_type": "code",
      "execution_count": null,
      "id": "38597405",
      "metadata": {
        "execution": {
          "iopub.execute_input": "2022-02-10T16:52:52.414135Z",
          "iopub.status.busy": "2022-02-10T16:52:52.413461Z",
          "iopub.status.idle": "2022-02-10T16:52:52.527899Z",
          "shell.execute_reply": "2022-02-10T16:52:52.527294Z",
          "shell.execute_reply.started": "2022-02-10T16:50:25.803328Z"
        },
        "papermill": {
          "duration": 0.167518,
          "end_time": "2022-02-10T16:52:52.528058",
          "exception": false,
          "start_time": "2022-02-10T16:52:52.360540",
          "status": "completed"
        },
        "tags": [],
        "colab": {
          "base_uri": "https://localhost:8080/"
        },
        "id": "38597405",
        "outputId": "d592f36d-ae4f-4950-aa0e-39788829fbda"
      },
      "outputs": [
        {
          "output_type": "execute_result",
          "data": {
            "text/plain": [
              "0.21392217659711166"
            ]
          },
          "metadata": {},
          "execution_count": 21
        }
      ],
      "source": [
        "# what percentage of older american and service member disputed?\n",
        "tag_yes = len(df.loc[(df['Tags'].isnull()) & (df['Consumer disputed?'] == 'Yes')])\n",
        "tag_yes/len(df.loc[(df['Tags'].isnull())])"
      ]
    },
    {
      "cell_type": "markdown",
      "id": "ab1b05c1",
      "metadata": {
        "papermill": {
          "duration": 0.050234,
          "end_time": "2022-02-10T16:52:52.629307",
          "exception": false,
          "start_time": "2022-02-10T16:52:52.579073",
          "status": "completed"
        },
        "tags": [],
        "id": "ab1b05c1"
      },
      "source": [
        "That's also not unsignficant - it would be simple enough to create a column to flag whether or not the customer was tagged as an older american or a service member."
      ]
    },
    {
      "cell_type": "markdown",
      "id": "f31f96b3",
      "metadata": {
        "papermill": {
          "duration": 0.049864,
          "end_time": "2022-02-10T16:52:52.729371",
          "exception": false,
          "start_time": "2022-02-10T16:52:52.679507",
          "status": "completed"
        },
        "tags": [],
        "id": "f31f96b3"
      },
      "source": [
        "## Feature Engineering\n",
        "\n",
        "In the previous section, I noted a couple of features I wanted to develop. Another feature that improved the performance of my model was one that takes into account the relationship between whether or not the banks provided some relief in response to the complaint and the ranking of the product in terms of disputed complaints."
      ]
    },
    {
      "cell_type": "code",
      "source": [
        "df['Consumer disputed?'] = df['Consumer disputed?'].astype('category')"
      ],
      "metadata": {
        "id": "OJGIp8nYZf-l"
      },
      "id": "OJGIp8nYZf-l",
      "execution_count": null,
      "outputs": []
    },
    {
      "cell_type": "code",
      "source": [
        "X = df[[ 'Product', 'Issue',\n",
        "        'Company public response', 'Company',\n",
        "       'State',  'Tags',\n",
        "       'Submitted via',  'Company response to consumer',\n",
        "       'Timely response?','Consumer complaint narrative']]"
      ],
      "metadata": {
        "id": "rasuPhitbBb4"
      },
      "id": "rasuPhitbBb4",
      "execution_count": null,
      "outputs": []
    },
    {
      "cell_type": "code",
      "source": [
        "# Check how many values are missing in each column\n",
        "\n",
        "X.isna().sum()"
      ],
      "metadata": {
        "colab": {
          "base_uri": "https://localhost:8080/"
        },
        "id": "o0mbPz-TblS1",
        "outputId": "e8d5b64e-090a-4326-fadb-a376b349ebf2"
      },
      "id": "o0mbPz-TblS1",
      "execution_count": null,
      "outputs": [
        {
          "output_type": "execute_result",
          "data": {
            "text/plain": [
              "Product                              0\n",
              "Issue                                0\n",
              "Company public response         148802\n",
              "Company                              0\n",
              "State                             2194\n",
              "Tags                            178995\n",
              "Submitted via                        0\n",
              "Company response to consumer         0\n",
              "Timely response?                     0\n",
              "Consumer complaint narrative    177869\n",
              "dtype: int64"
            ]
          },
          "metadata": {},
          "execution_count": 24
        }
      ]
    },
    {
      "cell_type": "code",
      "source": [
        "X = X.fillna('missing')\n",
        "X.dropna().shape"
      ],
      "metadata": {
        "colab": {
          "base_uri": "https://localhost:8080/"
        },
        "id": "qgJ_Xg2fbufW",
        "outputId": "315f68db-1632-428e-d60c-794d0b8b3912"
      },
      "id": "qgJ_Xg2fbufW",
      "execution_count": null,
      "outputs": [
        {
          "output_type": "execute_result",
          "data": {
            "text/plain": [
              "(207260, 10)"
            ]
          },
          "metadata": {},
          "execution_count": 25
        }
      ]
    },
    {
      "cell_type": "markdown",
      "source": [
        "Performing Sntiment Analysis to replace each and every complaint with their respective sentiment(positive, negative and neutral)"
      ],
      "metadata": {
        "id": "Y8Plmw74NWsV"
      },
      "id": "Y8Plmw74NWsV"
    },
    {
      "cell_type": "code",
      "source": [
        "import nltk\n",
        "nltk.download('vader_lexicon')\n",
        "from nltk.sentiment.vader import SentimentIntensityAnalyzer\n",
        "\n",
        "# create an instance of the sentiment analyzer\n",
        "analyzer = SentimentIntensityAnalyzer()\n",
        "\n",
        "\n",
        "# define a function to get the sentiment score for a given sentence\n",
        "def get_sentiment_score(sentence):\n",
        "    score = analyzer.polarity_scores(str(sentence))\n",
        "    return score['compound']\n",
        "\n",
        "# apply the get_sentiment_score() function to the 'complaint' column\n",
        "X['sentiment_score'] = X['Consumer complaint narrative'].apply(get_sentiment_score)\n",
        "\n",
        "# define a function to map the sentiment score to a sentiment label\n",
        "def get_sentiment_label(score):\n",
        "    if score >= 0.05:\n",
        "        return 'positive'\n",
        "    elif score <= -0.05:\n",
        "        return 'negative'\n",
        "    else:\n",
        "        return 'neutral'\n",
        "\n",
        "# apply the get_sentiment_label() function to the 'sentiment_score' column\n",
        "X['sentiment'] = X['sentiment_score'].apply(get_sentiment_label)\n",
        "\n",
        "# print the resulting DataFrame\n",
        "print(X.head())"
      ],
      "metadata": {
        "colab": {
          "base_uri": "https://localhost:8080/"
        },
        "id": "9bi8I20Sb4Lc",
        "outputId": "3499cdd8-10ed-4bb8-eb55-22499850a857"
      },
      "id": "9bi8I20Sb4Lc",
      "execution_count": null,
      "outputs": [
        {
          "output_type": "stream",
          "name": "stderr",
          "text": [
            "[nltk_data] Downloading package vader_lexicon to /root/nltk_data...\n"
          ]
        },
        {
          "output_type": "stream",
          "name": "stdout",
          "text": [
            "                   Product                                     Issue  \\\n",
            "0          Money transfers                  Other transaction issues   \n",
            "1  Bank account or service   Account opening, closing, or management   \n",
            "2  Bank account or service  Making/receiving payments, sending money   \n",
            "3                 Mortgage  Application, originator, mortgage broker   \n",
            "4                 Mortgage  Loan modification,collection,foreclosure   \n",
            "\n",
            "                             Company public response  \\\n",
            "0  Company has responded to the consumer and the ...   \n",
            "1   Company chooses not to provide a public response   \n",
            "2   Company chooses not to provide a public response   \n",
            "3                                            missing   \n",
            "4                                            missing   \n",
            "\n",
            "                                 Company    State            Tags  \\\n",
            "0                         CITIBANK, N.A.  missing         missing   \n",
            "1                         CITIBANK, N.A.       PA  Older American   \n",
            "2                           U.S. BANCORP       PA         missing   \n",
            "3                   JPMORGAN CHASE & CO.       VA   Servicemember   \n",
            "4  BANK OF AMERICA, NATIONAL ASSOCIATION       GA         missing   \n",
            "\n",
            "  Submitted via Company response to consumer Timely response?  \\\n",
            "0           Web      Closed with explanation              Yes   \n",
            "1           Web      Closed with explanation              Yes   \n",
            "2           Web  Closed with monetary relief              Yes   \n",
            "3         Phone      Closed with explanation              Yes   \n",
            "4      Referral      Closed with explanation              Yes   \n",
            "\n",
            "                        Consumer complaint narrative  sentiment_score  \\\n",
            "0  To whom it concerns, I would like to file a fo...          -0.8176   \n",
            "1  My name is XXXX XXXX XXXX and huband name is X...           0.9820   \n",
            "2  XXXX 2015 : I called to make a payment on XXXX...          -0.8634   \n",
            "3                                            missing          -0.2960   \n",
            "4                                            missing          -0.2960   \n",
            "\n",
            "  sentiment  \n",
            "0  negative  \n",
            "1  positive  \n",
            "2  negative  \n",
            "3  negative  \n",
            "4  negative  \n"
          ]
        }
      ]
    },
    {
      "cell_type": "code",
      "source": [
        "# Next, we convert all the X observations into numbers\n",
        "X = X[[ 'Product', 'Issue',\n",
        "        'Company public response', 'Company',\n",
        "       'State',  'Tags',\n",
        "       'Submitted via',  'Company response to consumer',\n",
        "       'Timely response?','sentiment']]\n",
        "X = pd.get_dummies(X)"
      ],
      "metadata": {
        "id": "9ux5cO6GcbBE"
      },
      "id": "9ux5cO6GcbBE",
      "execution_count": null,
      "outputs": []
    },
    {
      "cell_type": "code",
      "source": [
        "# Let us see what X looks like\n",
        "\n",
        "print('X has the shape ',X.shape)\n",
        "\n",
        "X"
      ],
      "metadata": {
        "colab": {
          "base_uri": "https://localhost:8080/",
          "height": 558
        },
        "id": "aJNc5Ypvcety",
        "outputId": "5b4023f4-27af-40b3-89f9-9b9e8b52a101"
      },
      "id": "aJNc5Ypvcety",
      "execution_count": null,
      "outputs": [
        {
          "output_type": "stream",
          "name": "stdout",
          "text": [
            "X has the shape  (207260, 203)\n"
          ]
        },
        {
          "output_type": "execute_result",
          "data": {
            "text/plain": [
              "        Product_Bank account or service  Product_Consumer Loan  \\\n",
              "0                                     0                      0   \n",
              "1                                     1                      0   \n",
              "2                                     1                      0   \n",
              "3                                     0                      0   \n",
              "4                                     0                      0   \n",
              "...                                 ...                    ...   \n",
              "207255                                0                      0   \n",
              "207256                                0                      0   \n",
              "207257                                0                      0   \n",
              "207258                                1                      0   \n",
              "207259                                0                      0   \n",
              "\n",
              "        Product_Credit card  Product_Credit reporting  \\\n",
              "0                         0                         0   \n",
              "1                         0                         0   \n",
              "2                         0                         0   \n",
              "3                         0                         0   \n",
              "4                         0                         0   \n",
              "...                     ...                       ...   \n",
              "207255                    0                         0   \n",
              "207256                    0                         0   \n",
              "207257                    0                         0   \n",
              "207258                    0                         0   \n",
              "207259                    0                         0   \n",
              "\n",
              "        Product_Debt collection  Product_Money transfers  Product_Mortgage  \\\n",
              "0                             0                        1                 0   \n",
              "1                             0                        0                 0   \n",
              "2                             0                        0                 0   \n",
              "3                             0                        0                 1   \n",
              "4                             0                        0                 1   \n",
              "...                         ...                      ...               ...   \n",
              "207255                        1                        0                 0   \n",
              "207256                        0                        0                 1   \n",
              "207257                        0                        0                 0   \n",
              "207258                        0                        0                 0   \n",
              "207259                        0                        0                 1   \n",
              "\n",
              "        Product_Other financial service  Product_Payday loan  \\\n",
              "0                                     0                    0   \n",
              "1                                     0                    0   \n",
              "2                                     0                    0   \n",
              "3                                     0                    0   \n",
              "4                                     0                    0   \n",
              "...                                 ...                  ...   \n",
              "207255                                0                    0   \n",
              "207256                                0                    0   \n",
              "207257                                0                    0   \n",
              "207258                                0                    0   \n",
              "207259                                0                    0   \n",
              "\n",
              "        Product_Prepaid card  ...  \\\n",
              "0                          0  ...   \n",
              "1                          0  ...   \n",
              "2                          0  ...   \n",
              "3                          0  ...   \n",
              "4                          0  ...   \n",
              "...                      ...  ...   \n",
              "207255                     0  ...   \n",
              "207256                     0  ...   \n",
              "207257                     0  ...   \n",
              "207258                     0  ...   \n",
              "207259                     0  ...   \n",
              "\n",
              "        Company response to consumer_Closed with monetary relief  \\\n",
              "0                                                       0          \n",
              "1                                                       0          \n",
              "2                                                       1          \n",
              "3                                                       0          \n",
              "4                                                       0          \n",
              "...                                                   ...          \n",
              "207255                                                  0          \n",
              "207256                                                  0          \n",
              "207257                                                  0          \n",
              "207258                                                  0          \n",
              "207259                                                  0          \n",
              "\n",
              "        Company response to consumer_Closed with non-monetary relief  \\\n",
              "0                                                       0              \n",
              "1                                                       0              \n",
              "2                                                       0              \n",
              "3                                                       0              \n",
              "4                                                       0              \n",
              "...                                                   ...              \n",
              "207255                                                  0              \n",
              "207256                                                  0              \n",
              "207257                                                  0              \n",
              "207258                                                  1              \n",
              "207259                                                  0              \n",
              "\n",
              "        Company response to consumer_Closed with relief  \\\n",
              "0                                                     0   \n",
              "1                                                     0   \n",
              "2                                                     0   \n",
              "3                                                     0   \n",
              "4                                                     0   \n",
              "...                                                 ...   \n",
              "207255                                                0   \n",
              "207256                                                0   \n",
              "207257                                                0   \n",
              "207258                                                0   \n",
              "207259                                                0   \n",
              "\n",
              "        Company response to consumer_Closed without relief  \\\n",
              "0                                                       0    \n",
              "1                                                       0    \n",
              "2                                                       0    \n",
              "3                                                       0    \n",
              "4                                                       0    \n",
              "...                                                   ...    \n",
              "207255                                                  0    \n",
              "207256                                                  1    \n",
              "207257                                                  0    \n",
              "207258                                                  0    \n",
              "207259                                                  0    \n",
              "\n",
              "        Company response to consumer_Untimely response  Timely response?_No  \\\n",
              "0                                                    0                    0   \n",
              "1                                                    0                    0   \n",
              "2                                                    0                    0   \n",
              "3                                                    0                    0   \n",
              "4                                                    0                    0   \n",
              "...                                                ...                  ...   \n",
              "207255                                               0                    0   \n",
              "207256                                               0                    0   \n",
              "207257                                               0                    0   \n",
              "207258                                               0                    0   \n",
              "207259                                               0                    0   \n",
              "\n",
              "        Timely response?_Yes  sentiment_negative  sentiment_neutral  \\\n",
              "0                          1                   1                  0   \n",
              "1                          1                   0                  0   \n",
              "2                          1                   1                  0   \n",
              "3                          1                   1                  0   \n",
              "4                          1                   1                  0   \n",
              "...                      ...                 ...                ...   \n",
              "207255                     1                   1                  0   \n",
              "207256                     1                   1                  0   \n",
              "207257                     1                   1                  0   \n",
              "207258                     1                   0                  0   \n",
              "207259                     1                   1                  0   \n",
              "\n",
              "        sentiment_positive  \n",
              "0                        0  \n",
              "1                        1  \n",
              "2                        0  \n",
              "3                        0  \n",
              "4                        0  \n",
              "...                    ...  \n",
              "207255                   0  \n",
              "207256                   0  \n",
              "207257                   0  \n",
              "207258                   1  \n",
              "207259                   0  \n",
              "\n",
              "[207260 rows x 203 columns]"
            ],
            "text/html": [
              "\n",
              "  <div id=\"df-e35776bd-559a-47b0-8e96-ff683a81b71a\">\n",
              "    <div class=\"colab-df-container\">\n",
              "      <div>\n",
              "<style scoped>\n",
              "    .dataframe tbody tr th:only-of-type {\n",
              "        vertical-align: middle;\n",
              "    }\n",
              "\n",
              "    .dataframe tbody tr th {\n",
              "        vertical-align: top;\n",
              "    }\n",
              "\n",
              "    .dataframe thead th {\n",
              "        text-align: right;\n",
              "    }\n",
              "</style>\n",
              "<table border=\"1\" class=\"dataframe\">\n",
              "  <thead>\n",
              "    <tr style=\"text-align: right;\">\n",
              "      <th></th>\n",
              "      <th>Product_Bank account or service</th>\n",
              "      <th>Product_Consumer Loan</th>\n",
              "      <th>Product_Credit card</th>\n",
              "      <th>Product_Credit reporting</th>\n",
              "      <th>Product_Debt collection</th>\n",
              "      <th>Product_Money transfers</th>\n",
              "      <th>Product_Mortgage</th>\n",
              "      <th>Product_Other financial service</th>\n",
              "      <th>Product_Payday loan</th>\n",
              "      <th>Product_Prepaid card</th>\n",
              "      <th>...</th>\n",
              "      <th>Company response to consumer_Closed with monetary relief</th>\n",
              "      <th>Company response to consumer_Closed with non-monetary relief</th>\n",
              "      <th>Company response to consumer_Closed with relief</th>\n",
              "      <th>Company response to consumer_Closed without relief</th>\n",
              "      <th>Company response to consumer_Untimely response</th>\n",
              "      <th>Timely response?_No</th>\n",
              "      <th>Timely response?_Yes</th>\n",
              "      <th>sentiment_negative</th>\n",
              "      <th>sentiment_neutral</th>\n",
              "      <th>sentiment_positive</th>\n",
              "    </tr>\n",
              "  </thead>\n",
              "  <tbody>\n",
              "    <tr>\n",
              "      <th>0</th>\n",
              "      <td>0</td>\n",
              "      <td>0</td>\n",
              "      <td>0</td>\n",
              "      <td>0</td>\n",
              "      <td>0</td>\n",
              "      <td>1</td>\n",
              "      <td>0</td>\n",
              "      <td>0</td>\n",
              "      <td>0</td>\n",
              "      <td>0</td>\n",
              "      <td>...</td>\n",
              "      <td>0</td>\n",
              "      <td>0</td>\n",
              "      <td>0</td>\n",
              "      <td>0</td>\n",
              "      <td>0</td>\n",
              "      <td>0</td>\n",
              "      <td>1</td>\n",
              "      <td>1</td>\n",
              "      <td>0</td>\n",
              "      <td>0</td>\n",
              "    </tr>\n",
              "    <tr>\n",
              "      <th>1</th>\n",
              "      <td>1</td>\n",
              "      <td>0</td>\n",
              "      <td>0</td>\n",
              "      <td>0</td>\n",
              "      <td>0</td>\n",
              "      <td>0</td>\n",
              "      <td>0</td>\n",
              "      <td>0</td>\n",
              "      <td>0</td>\n",
              "      <td>0</td>\n",
              "      <td>...</td>\n",
              "      <td>0</td>\n",
              "      <td>0</td>\n",
              "      <td>0</td>\n",
              "      <td>0</td>\n",
              "      <td>0</td>\n",
              "      <td>0</td>\n",
              "      <td>1</td>\n",
              "      <td>0</td>\n",
              "      <td>0</td>\n",
              "      <td>1</td>\n",
              "    </tr>\n",
              "    <tr>\n",
              "      <th>2</th>\n",
              "      <td>1</td>\n",
              "      <td>0</td>\n",
              "      <td>0</td>\n",
              "      <td>0</td>\n",
              "      <td>0</td>\n",
              "      <td>0</td>\n",
              "      <td>0</td>\n",
              "      <td>0</td>\n",
              "      <td>0</td>\n",
              "      <td>0</td>\n",
              "      <td>...</td>\n",
              "      <td>1</td>\n",
              "      <td>0</td>\n",
              "      <td>0</td>\n",
              "      <td>0</td>\n",
              "      <td>0</td>\n",
              "      <td>0</td>\n",
              "      <td>1</td>\n",
              "      <td>1</td>\n",
              "      <td>0</td>\n",
              "      <td>0</td>\n",
              "    </tr>\n",
              "    <tr>\n",
              "      <th>3</th>\n",
              "      <td>0</td>\n",
              "      <td>0</td>\n",
              "      <td>0</td>\n",
              "      <td>0</td>\n",
              "      <td>0</td>\n",
              "      <td>0</td>\n",
              "      <td>1</td>\n",
              "      <td>0</td>\n",
              "      <td>0</td>\n",
              "      <td>0</td>\n",
              "      <td>...</td>\n",
              "      <td>0</td>\n",
              "      <td>0</td>\n",
              "      <td>0</td>\n",
              "      <td>0</td>\n",
              "      <td>0</td>\n",
              "      <td>0</td>\n",
              "      <td>1</td>\n",
              "      <td>1</td>\n",
              "      <td>0</td>\n",
              "      <td>0</td>\n",
              "    </tr>\n",
              "    <tr>\n",
              "      <th>4</th>\n",
              "      <td>0</td>\n",
              "      <td>0</td>\n",
              "      <td>0</td>\n",
              "      <td>0</td>\n",
              "      <td>0</td>\n",
              "      <td>0</td>\n",
              "      <td>1</td>\n",
              "      <td>0</td>\n",
              "      <td>0</td>\n",
              "      <td>0</td>\n",
              "      <td>...</td>\n",
              "      <td>0</td>\n",
              "      <td>0</td>\n",
              "      <td>0</td>\n",
              "      <td>0</td>\n",
              "      <td>0</td>\n",
              "      <td>0</td>\n",
              "      <td>1</td>\n",
              "      <td>1</td>\n",
              "      <td>0</td>\n",
              "      <td>0</td>\n",
              "    </tr>\n",
              "    <tr>\n",
              "      <th>...</th>\n",
              "      <td>...</td>\n",
              "      <td>...</td>\n",
              "      <td>...</td>\n",
              "      <td>...</td>\n",
              "      <td>...</td>\n",
              "      <td>...</td>\n",
              "      <td>...</td>\n",
              "      <td>...</td>\n",
              "      <td>...</td>\n",
              "      <td>...</td>\n",
              "      <td>...</td>\n",
              "      <td>...</td>\n",
              "      <td>...</td>\n",
              "      <td>...</td>\n",
              "      <td>...</td>\n",
              "      <td>...</td>\n",
              "      <td>...</td>\n",
              "      <td>...</td>\n",
              "      <td>...</td>\n",
              "      <td>...</td>\n",
              "      <td>...</td>\n",
              "    </tr>\n",
              "    <tr>\n",
              "      <th>207255</th>\n",
              "      <td>0</td>\n",
              "      <td>0</td>\n",
              "      <td>0</td>\n",
              "      <td>0</td>\n",
              "      <td>1</td>\n",
              "      <td>0</td>\n",
              "      <td>0</td>\n",
              "      <td>0</td>\n",
              "      <td>0</td>\n",
              "      <td>0</td>\n",
              "      <td>...</td>\n",
              "      <td>0</td>\n",
              "      <td>0</td>\n",
              "      <td>0</td>\n",
              "      <td>0</td>\n",
              "      <td>0</td>\n",
              "      <td>0</td>\n",
              "      <td>1</td>\n",
              "      <td>1</td>\n",
              "      <td>0</td>\n",
              "      <td>0</td>\n",
              "    </tr>\n",
              "    <tr>\n",
              "      <th>207256</th>\n",
              "      <td>0</td>\n",
              "      <td>0</td>\n",
              "      <td>0</td>\n",
              "      <td>0</td>\n",
              "      <td>0</td>\n",
              "      <td>0</td>\n",
              "      <td>1</td>\n",
              "      <td>0</td>\n",
              "      <td>0</td>\n",
              "      <td>0</td>\n",
              "      <td>...</td>\n",
              "      <td>0</td>\n",
              "      <td>0</td>\n",
              "      <td>0</td>\n",
              "      <td>1</td>\n",
              "      <td>0</td>\n",
              "      <td>0</td>\n",
              "      <td>1</td>\n",
              "      <td>1</td>\n",
              "      <td>0</td>\n",
              "      <td>0</td>\n",
              "    </tr>\n",
              "    <tr>\n",
              "      <th>207257</th>\n",
              "      <td>0</td>\n",
              "      <td>0</td>\n",
              "      <td>0</td>\n",
              "      <td>0</td>\n",
              "      <td>0</td>\n",
              "      <td>0</td>\n",
              "      <td>0</td>\n",
              "      <td>0</td>\n",
              "      <td>0</td>\n",
              "      <td>0</td>\n",
              "      <td>...</td>\n",
              "      <td>0</td>\n",
              "      <td>0</td>\n",
              "      <td>0</td>\n",
              "      <td>0</td>\n",
              "      <td>0</td>\n",
              "      <td>0</td>\n",
              "      <td>1</td>\n",
              "      <td>1</td>\n",
              "      <td>0</td>\n",
              "      <td>0</td>\n",
              "    </tr>\n",
              "    <tr>\n",
              "      <th>207258</th>\n",
              "      <td>1</td>\n",
              "      <td>0</td>\n",
              "      <td>0</td>\n",
              "      <td>0</td>\n",
              "      <td>0</td>\n",
              "      <td>0</td>\n",
              "      <td>0</td>\n",
              "      <td>0</td>\n",
              "      <td>0</td>\n",
              "      <td>0</td>\n",
              "      <td>...</td>\n",
              "      <td>0</td>\n",
              "      <td>1</td>\n",
              "      <td>0</td>\n",
              "      <td>0</td>\n",
              "      <td>0</td>\n",
              "      <td>0</td>\n",
              "      <td>1</td>\n",
              "      <td>0</td>\n",
              "      <td>0</td>\n",
              "      <td>1</td>\n",
              "    </tr>\n",
              "    <tr>\n",
              "      <th>207259</th>\n",
              "      <td>0</td>\n",
              "      <td>0</td>\n",
              "      <td>0</td>\n",
              "      <td>0</td>\n",
              "      <td>0</td>\n",
              "      <td>0</td>\n",
              "      <td>1</td>\n",
              "      <td>0</td>\n",
              "      <td>0</td>\n",
              "      <td>0</td>\n",
              "      <td>...</td>\n",
              "      <td>0</td>\n",
              "      <td>0</td>\n",
              "      <td>0</td>\n",
              "      <td>0</td>\n",
              "      <td>0</td>\n",
              "      <td>0</td>\n",
              "      <td>1</td>\n",
              "      <td>1</td>\n",
              "      <td>0</td>\n",
              "      <td>0</td>\n",
              "    </tr>\n",
              "  </tbody>\n",
              "</table>\n",
              "<p>207260 rows × 203 columns</p>\n",
              "</div>\n",
              "      <button class=\"colab-df-convert\" onclick=\"convertToInteractive('df-e35776bd-559a-47b0-8e96-ff683a81b71a')\"\n",
              "              title=\"Convert this dataframe to an interactive table.\"\n",
              "              style=\"display:none;\">\n",
              "        \n",
              "  <svg xmlns=\"http://www.w3.org/2000/svg\" height=\"24px\"viewBox=\"0 0 24 24\"\n",
              "       width=\"24px\">\n",
              "    <path d=\"M0 0h24v24H0V0z\" fill=\"none\"/>\n",
              "    <path d=\"M18.56 5.44l.94 2.06.94-2.06 2.06-.94-2.06-.94-.94-2.06-.94 2.06-2.06.94zm-11 1L8.5 8.5l.94-2.06 2.06-.94-2.06-.94L8.5 2.5l-.94 2.06-2.06.94zm10 10l.94 2.06.94-2.06 2.06-.94-2.06-.94-.94-2.06-.94 2.06-2.06.94z\"/><path d=\"M17.41 7.96l-1.37-1.37c-.4-.4-.92-.59-1.43-.59-.52 0-1.04.2-1.43.59L10.3 9.45l-7.72 7.72c-.78.78-.78 2.05 0 2.83L4 21.41c.39.39.9.59 1.41.59.51 0 1.02-.2 1.41-.59l7.78-7.78 2.81-2.81c.8-.78.8-2.07 0-2.86zM5.41 20L4 18.59l7.72-7.72 1.47 1.35L5.41 20z\"/>\n",
              "  </svg>\n",
              "      </button>\n",
              "      \n",
              "  <style>\n",
              "    .colab-df-container {\n",
              "      display:flex;\n",
              "      flex-wrap:wrap;\n",
              "      gap: 12px;\n",
              "    }\n",
              "\n",
              "    .colab-df-convert {\n",
              "      background-color: #E8F0FE;\n",
              "      border: none;\n",
              "      border-radius: 50%;\n",
              "      cursor: pointer;\n",
              "      display: none;\n",
              "      fill: #1967D2;\n",
              "      height: 32px;\n",
              "      padding: 0 0 0 0;\n",
              "      width: 32px;\n",
              "    }\n",
              "\n",
              "    .colab-df-convert:hover {\n",
              "      background-color: #E2EBFA;\n",
              "      box-shadow: 0px 1px 2px rgba(60, 64, 67, 0.3), 0px 1px 3px 1px rgba(60, 64, 67, 0.15);\n",
              "      fill: #174EA6;\n",
              "    }\n",
              "\n",
              "    [theme=dark] .colab-df-convert {\n",
              "      background-color: #3B4455;\n",
              "      fill: #D2E3FC;\n",
              "    }\n",
              "\n",
              "    [theme=dark] .colab-df-convert:hover {\n",
              "      background-color: #434B5C;\n",
              "      box-shadow: 0px 1px 3px 1px rgba(0, 0, 0, 0.15);\n",
              "      filter: drop-shadow(0px 1px 2px rgba(0, 0, 0, 0.3));\n",
              "      fill: #FFFFFF;\n",
              "    }\n",
              "  </style>\n",
              "\n",
              "      <script>\n",
              "        const buttonEl =\n",
              "          document.querySelector('#df-e35776bd-559a-47b0-8e96-ff683a81b71a button.colab-df-convert');\n",
              "        buttonEl.style.display =\n",
              "          google.colab.kernel.accessAllowed ? 'block' : 'none';\n",
              "\n",
              "        async function convertToInteractive(key) {\n",
              "          const element = document.querySelector('#df-e35776bd-559a-47b0-8e96-ff683a81b71a');\n",
              "          const dataTable =\n",
              "            await google.colab.kernel.invokeFunction('convertToInteractive',\n",
              "                                                     [key], {});\n",
              "          if (!dataTable) return;\n",
              "\n",
              "          const docLinkHtml = 'Like what you see? Visit the ' +\n",
              "            '<a target=\"_blank\" href=https://colab.research.google.com/notebooks/data_table.ipynb>data table notebook</a>'\n",
              "            + ' to learn more about interactive tables.';\n",
              "          element.innerHTML = '';\n",
              "          dataTable['output_type'] = 'display_data';\n",
              "          await google.colab.output.renderOutput(dataTable, element);\n",
              "          const docLink = document.createElement('div');\n",
              "          docLink.innerHTML = docLinkHtml;\n",
              "          element.appendChild(docLink);\n",
              "        }\n",
              "      </script>\n",
              "    </div>\n",
              "  </div>\n",
              "  "
            ]
          },
          "metadata": {},
          "execution_count": 28
        }
      ]
    },
    {
      "cell_type": "code",
      "source": [
        "y = df['Consumer disputed?']"
      ],
      "metadata": {
        "id": "a580zwM2cjwc"
      },
      "id": "a580zwM2cjwc",
      "execution_count": null,
      "outputs": []
    },
    {
      "cell_type": "code",
      "source": [
        "from sklearn import preprocessing\n",
        "le = preprocessing.LabelEncoder()\n",
        "y = le.fit_transform(df['Consumer disputed?'])\n",
        "print(le.classes_)\n",
        "print(le.inverse_transform(list(set(y))))\n",
        "labels = dict(zip(list(set(y)), le.inverse_transform(list(set(y)))))\n",
        "print(\"\\nLabel mapping is:\", labels)"
      ],
      "metadata": {
        "colab": {
          "base_uri": "https://localhost:8080/"
        },
        "id": "bHll44hock1I",
        "outputId": "b78e9260-436c-4db0-a35a-df1bb3c880d9"
      },
      "id": "bHll44hock1I",
      "execution_count": null,
      "outputs": [
        {
          "output_type": "stream",
          "name": "stdout",
          "text": [
            "['No' 'Yes']\n",
            "['No' 'Yes']\n",
            "\n",
            "Label mapping is: {0: 'No', 1: 'Yes'}\n"
          ]
        }
      ]
    },
    {
      "cell_type": "code",
      "source": [
        "# Let us now look at what y looks like\n",
        "y"
      ],
      "metadata": {
        "colab": {
          "base_uri": "https://localhost:8080/"
        },
        "id": "eOiaBI_ucuXU",
        "outputId": "d136696e-0015-42d4-8e8a-2c7d8e2e1716"
      },
      "id": "eOiaBI_ucuXU",
      "execution_count": null,
      "outputs": [
        {
          "output_type": "execute_result",
          "data": {
            "text/plain": [
              "array([0, 0, 0, ..., 0, 0, 0])"
            ]
          },
          "metadata": {},
          "execution_count": 31
        }
      ]
    },
    {
      "cell_type": "code",
      "source": [
        "# Let us do a value_counts() to check how many of each category.  But we have to convert to a Pandas dataframe first.\n",
        "print(pd.DataFrame(y).value_counts(), '\\n')\n",
        "print(pd.DataFrame(y).value_counts(normalize=True))"
      ],
      "metadata": {
        "colab": {
          "base_uri": "https://localhost:8080/"
        },
        "id": "vhAOF0gScub-",
        "outputId": "62c288e5-4dd1-4a67-b4b8-98aae96dd125"
      },
      "id": "vhAOF0gScub-",
      "execution_count": null,
      "outputs": [
        {
          "output_type": "stream",
          "name": "stdout",
          "text": [
            "0    162357\n",
            "1     44903\n",
            "dtype: int64 \n",
            "\n",
            "0    0.783349\n",
            "1    0.216651\n",
            "dtype: float64\n"
          ]
        }
      ]
    },
    {
      "cell_type": "code",
      "source": [
        "from sklearn.model_selection import train_test_split\n",
        "X_train, X_test, y_train, y_test = train_test_split(X, y, test_size=0.2)"
      ],
      "metadata": {
        "id": "7VHDIh1LculV"
      },
      "id": "7VHDIh1LculV",
      "execution_count": null,
      "outputs": []
    },
    {
      "cell_type": "code",
      "source": [
        "# We check the shape of our X and y\n",
        "\n",
        "print(X_train.shape)\n",
        "print(y_train.shape)\n",
        "print(X_test.shape)\n",
        "print(y_test.shape)"
      ],
      "metadata": {
        "colab": {
          "base_uri": "https://localhost:8080/"
        },
        "id": "a1FQTwKKcupx",
        "outputId": "226be85f-e772-4c04-834f-427fb7384644"
      },
      "id": "a1FQTwKKcupx",
      "execution_count": null,
      "outputs": [
        {
          "output_type": "stream",
          "name": "stdout",
          "text": [
            "(165808, 203)\n",
            "(165808,)\n",
            "(41452, 203)\n",
            "(41452,)\n"
          ]
        }
      ]
    },
    {
      "cell_type": "code",
      "source": [
        "from imblearn.under_sampling import RandomUnderSampler\n",
        "undersampler = RandomUnderSampler()\n",
        "X_train, y_train = undersampler.fit_resample(X, y)"
      ],
      "metadata": {
        "id": "U3cw8s5ecu1N"
      },
      "id": "U3cw8s5ecu1N",
      "execution_count": null,
      "outputs": []
    },
    {
      "cell_type": "code",
      "source": [
        "# Let us check if the dataset is balanced\n",
        "# just checking that the '1' category is exactly 50% of the training set\n",
        "\n",
        "y_train.sum()/len(y_train)"
      ],
      "metadata": {
        "colab": {
          "base_uri": "https://localhost:8080/"
        },
        "id": "dG-xXSiLdLZV",
        "outputId": "4449482f-18c1-424b-fc87-2848cfd061ee"
      },
      "id": "dG-xXSiLdLZV",
      "execution_count": null,
      "outputs": [
        {
          "output_type": "execute_result",
          "data": {
            "text/plain": [
              "0.5"
            ]
          },
          "metadata": {},
          "execution_count": 36
        }
      ]
    },
    {
      "cell_type": "code",
      "source": [
        "print(X.shape)\n",
        "print(X_train.shape)\n",
        "print(X_test.shape)"
      ],
      "metadata": {
        "colab": {
          "base_uri": "https://localhost:8080/"
        },
        "id": "_w92UM2odO8t",
        "outputId": "e9fd324a-ea48-4ea9-da86-7125a67e32ab"
      },
      "id": "_w92UM2odO8t",
      "execution_count": null,
      "outputs": [
        {
          "output_type": "stream",
          "name": "stdout",
          "text": [
            "(207260, 203)\n",
            "(89806, 203)\n",
            "(41452, 203)\n"
          ]
        }
      ]
    },
    {
      "cell_type": "markdown",
      "id": "6444354f",
      "metadata": {
        "papermill": {
          "duration": 0.05109,
          "end_time": "2022-02-10T16:52:55.228538",
          "exception": false,
          "start_time": "2022-02-10T16:52:55.177448",
          "status": "completed"
        },
        "tags": [],
        "id": "6444354f"
      },
      "source": [
        "## Modelling"
      ]
    },
    {
      "cell_type": "code",
      "source": [
        "from sklearn.ensemble import RandomForestClassifier\n",
        "from sklearn.model_selection import GridSearchCV, train_test_split\n",
        "rf = RandomForestClassifier(n_estimators=100, random_state=42)\n",
        "rf.fit(X_train, y_train)\n",
        "pred = rf.predict(X_test)"
      ],
      "metadata": {
        "id": "AFv5lnVLhWmS"
      },
      "id": "AFv5lnVLhWmS",
      "execution_count": null,
      "outputs": []
    },
    {
      "cell_type": "code",
      "source": [
        "# Check the classification report and the confusion matrix\n",
        "\n",
        "\n",
        "cm = confusion_matrix(y_test, pred)\n",
        "ConfusionMatrixDisplay(confusion_matrix=cm).plot();\n",
        "report = classification_report(y_test, pred)\n",
        "print(report)"
      ],
      "metadata": {
        "colab": {
          "base_uri": "https://localhost:8080/",
          "height": 596
        },
        "id": "jmWNBcIIhXyj",
        "outputId": "68b68101-adf0-4f18-c850-dc002cc6399d"
      },
      "id": "jmWNBcIIhXyj",
      "execution_count": null,
      "outputs": [
        {
          "output_type": "stream",
          "name": "stdout",
          "text": [
            "              precision    recall  f1-score   support\n",
            "\n",
            "           0       0.91      0.59      0.72     32446\n",
            "           1       0.35      0.80      0.49      9006\n",
            "\n",
            "    accuracy                           0.63     41452\n",
            "   macro avg       0.63      0.70      0.60     41452\n",
            "weighted avg       0.79      0.63      0.67     41452\n",
            "\n"
          ]
        },
        {
          "output_type": "display_data",
          "data": {
            "text/plain": [
              "<Figure size 640x480 with 2 Axes>"
            ],
            "image/png": "[encoded data removed]"
          },
          "metadata": {}
        }
      ]
    },
    {
      "cell_type": "code",
      "source": [
        "# Let us look at label mappings to check what 0 and 1 mean\n",
        "# Looks like \"0\" means NoDispute, and \"1\" means \"Dispute\"\n",
        "\n",
        "print(\"Label mapping is:\", labels)"
      ],
      "metadata": {
        "colab": {
          "base_uri": "https://localhost:8080/"
        },
        "id": "oo2HoWBjixGS",
        "outputId": "d09e86b2-0895-4b94-98fb-f2d70dd75f85"
      },
      "id": "oo2HoWBjixGS",
      "execution_count": null,
      "outputs": [
        {
          "output_type": "stream",
          "name": "stdout",
          "text": [
            "Label mapping is: {0: 'No', 1: 'Yes'}\n"
          ]
        }
      ]
    },
    {
      "cell_type": "code",
      "source": [
        "# Cost when model predicts dispute and actually disputed\n",
        "True_NoDispute_Cost = 100 * cm[0, 0]\n",
        "\n",
        "# Cost when model predicts dispute and no actual dispute\n",
        "False_Dispute_Cost = 190 * cm[0,1]\n",
        "\n",
        "# Cost when model predicts NoDispute and actually disputed\n",
        "False_NoDispute_Cost = 600 * cm[1,0]\n",
        "\n",
        "# Cost when model predicts NoDispute correctly\n",
        "True_Dispute_Cost = 190 * cm[1,1]\n"
      ],
      "metadata": {
        "id": "s-NH41MiiyPv"
      },
      "id": "s-NH41MiiyPv",
      "execution_count": null,
      "outputs": []
    },
    {
      "cell_type": "code",
      "source": [
        "Total_cost = True_NoDispute_Cost + False_Dispute_Cost + False_NoDispute_Cost + True_Dispute_Cost\n",
        "Total_cost"
      ],
      "metadata": {
        "colab": {
          "base_uri": "https://localhost:8080/"
        },
        "id": "U-nRR9Zdi1tT",
        "outputId": "01e7bd0b-84f2-4069-cf60-ab346347b341"
      },
      "id": "U-nRR9Zdi1tT",
      "execution_count": null,
      "outputs": [
        {
          "output_type": "execute_result",
          "data": {
            "text/plain": [
              "6886840"
            ]
          },
          "metadata": {},
          "execution_count": 42
        }
      ]
    },
    {
      "cell_type": "markdown",
      "id": "9f06ada2",
      "metadata": {
        "papermill": {
          "duration": 0.052404,
          "end_time": "2022-02-10T16:52:59.878610",
          "exception": false,
          "start_time": "2022-02-10T16:52:59.826206",
          "status": "completed"
        },
        "tags": [],
        "id": "9f06ada2"
      },
      "source": [
        "## Performance and Threshold Analysis\n",
        "\n"
      ]
    },
    {
      "cell_type": "code",
      "source": [
        "# Set threshold for identifying class 1\n",
        "threshold = 0.1\n",
        "\n",
        "# Create predictions.  Note that predictions give us probabilities, not classes!\n",
        "pred_prob = rf.predict_proba(X_test)\n",
        "\n",
        "# We drop the probabilities for class 0, and keep just the second column\n",
        "pred_prob = pred_prob[:,1]\n",
        "\n",
        "# Convert probabilities to 1s and 0s based on threshold\n",
        "pred = (pred_prob>threshold).astype(int)\n",
        "\n",
        "# confusion matrix\n",
        "cm = confusion_matrix(y_test, pred)\n",
        "print (\"Confusion Matrix : \\n\", cm)\n",
        "ConfusionMatrixDisplay(confusion_matrix=cm).plot();\n",
        "\n",
        "# accuracy score of the model\n",
        "print('Test accuracy = ', accuracy_score(y_test, pred))\n",
        "print(classification_report(y_true = y_test, y_pred = pred))"
      ],
      "metadata": {
        "colab": {
          "base_uri": "https://localhost:8080/",
          "height": 662
        },
        "id": "1FyVtMsFGoDm",
        "outputId": "b2fab8f8-521c-4024-f0df-53341c1e4278"
      },
      "id": "1FyVtMsFGoDm",
      "execution_count": null,
      "outputs": [
        {
          "output_type": "stream",
          "name": "stdout",
          "text": [
            "Confusion Matrix : \n",
            " [[ 2866 29580]\n",
            " [    3  9003]]\n",
            "Test accuracy =  0.28633117823024223\n",
            "              precision    recall  f1-score   support\n",
            "\n",
            "           0       1.00      0.09      0.16     32446\n",
            "           1       0.23      1.00      0.38      9006\n",
            "\n",
            "    accuracy                           0.29     41452\n",
            "   macro avg       0.62      0.54      0.27     41452\n",
            "weighted avg       0.83      0.29      0.21     41452\n",
            "\n"
          ]
        },
        {
          "output_type": "display_data",
          "data": {
            "text/plain": [
              "<Figure size 640x480 with 2 Axes>"
            ],
            "image/png": "[encoded data removed]"
          },
          "metadata": {}
        }
      ]
    },
    {
      "cell_type": "markdown",
      "source": [
        "So we see that recall has gone up to 90% from a lower number earlier."
      ],
      "metadata": {
        "id": "ZcGPNgSiG_VM"
      },
      "id": "ZcGPNgSiG_VM"
    },
    {
      "cell_type": "code",
      "source": [
        "pred"
      ],
      "metadata": {
        "colab": {
          "base_uri": "https://localhost:8080/"
        },
        "id": "bJkh1piPGuoY",
        "outputId": "f62e2c2c-7b42-4f3a-b770-5a2e43313dda"
      },
      "id": "bJkh1piPGuoY",
      "execution_count": null,
      "outputs": [
        {
          "output_type": "execute_result",
          "data": {
            "text/plain": [
              "array([1, 1, 1, ..., 1, 1, 1])"
            ]
          },
          "metadata": {},
          "execution_count": 50
        }
      ]
    },
    {
      "cell_type": "code",
      "source": [
        "# Cost when model predicts dispute and actually disputed\n",
        "True_NoDispute_Cost = 100 * cm[0, 0]\n",
        "\n",
        "# Cost when model predicts dispute and no actual dispute\n",
        "False_Dispute_Cost = 190 * cm[0,1]\n",
        "\n",
        "# Cost when model predicts NoDispute and actually disputed\n",
        "False_NoDispute_Cost = 600 * cm[1,0]\n",
        "\n",
        "# Cost when model predicts NoDispute correctly\n",
        "True_Dispute_Cost = 190 * cm[1,1]"
      ],
      "metadata": {
        "id": "jWGZDKoOHFmK"
      },
      "id": "jWGZDKoOHFmK",
      "execution_count": null,
      "outputs": []
    },
    {
      "cell_type": "code",
      "source": [
        "Total_cost = True_NoDispute_Cost + False_Dispute_Cost + False_NoDispute_Cost + True_Dispute_Cost\n",
        "Total_cost"
      ],
      "metadata": {
        "colab": {
          "base_uri": "https://localhost:8080/"
        },
        "id": "i1XMVpjTHO1Z",
        "outputId": "82aabed0-44f8-46c8-a1c7-7a637240391b"
      },
      "id": "i1XMVpjTHO1Z",
      "execution_count": null,
      "outputs": [
        {
          "output_type": "execute_result",
          "data": {
            "text/plain": [
              "7619170"
            ]
          },
          "metadata": {},
          "execution_count": 52
        }
      ]
    },
    {
      "cell_type": "code",
      "source": [
        "from tqdm import tqdm\n",
        "from sklearn.metrics import confusion_matrix, accuracy_score, classification_report, ConfusionMatrixDisplay, precision_score, recall_score\n",
        "\n",
        "# %%time\n",
        "# Set threshold for identifying class 1\n",
        "threshold = 0.0001\n",
        "appended_data = []\n",
        "\n",
        "for threshold in tqdm(np.arange(0,1,.01)):\n",
        "    # Create predictions.  Note that predictions give us probabilities, not classes!\n",
        "    pred_prob = rf.predict_proba(X_test)\n",
        "\n",
        "    # We drop the probabilities for class 0, and keep just the second column\n",
        "    pred_prob = pred_prob[:,1]\n",
        "\n",
        "    # Convert probabilities to 1s and 0s based on threshold\n",
        "    pred = (pred_prob>threshold).astype(int)\n",
        "\n",
        "    # confusion matrix\n",
        "    cm = confusion_matrix(y_test, pred)\n",
        "\n",
        "    # accuracy score of the model\n",
        "    accuracy = accuracy_score(y_test, pred)\n",
        "    precision = precision_score(y_test, pred,zero_division=0)\n",
        "    recall = recall_score(y_test, pred)\n",
        "\n",
        "    # Cost when model predicts dispute and actually disputed\n",
        "    True_NoDispute_Cost = 100 * cm[0, 0]\n",
        "\n",
        "    # Cost when model predicts dispute and no actual dispute\n",
        "    False_Dispute_Cost = 190 * cm[0,1]\n",
        "\n",
        "    # Cost when model predicts NoDispute and actually disputed\n",
        "    False_NoDispute_Cost = 600 * cm[1,0]\n",
        "\n",
        "    # Cost when model predicts NoDispute correctly\n",
        "    True_Dispute_Cost = 190 * cm[1,1]\n",
        "\n",
        "    Total_cost = True_NoDispute_Cost + False_Dispute_Cost + False_NoDispute_Cost + True_Dispute_Cost\n",
        "    Total_cost\n",
        "\n",
        "    data = pd.DataFrame({'threshold':[threshold], 'accuracy': [accuracy],\n",
        "                         'precision':[precision], 'recall':[recall],\n",
        "                         'True_NoDispute_Cost':[True_NoDispute_Cost],\n",
        "                         'False_Dispute_Cost':[False_Dispute_Cost],\n",
        "                         'False_NoDispute_Cost':[False_NoDispute_Cost],\n",
        "                         'True_Dispute_Cost':[True_Dispute_Cost],\n",
        "                         'Total_cost':[Total_cost]})\n",
        "    appended_data.append(data)\n",
        "\n",
        "\n",
        "\n",
        "appended_data = pd.concat(appended_data)\n",
        "\n",
        "appended_data.reset_index()\n",
        "\n",
        "# appended_data.to_excel('temp.xlsx')\n",
        "sns.scatterplot(data = appended_data, y = 'Total_cost', x = 'threshold')"
      ],
      "metadata": {
        "colab": {
          "base_uri": "https://localhost:8080/",
          "height": 497
        },
        "id": "b4_UcP3hHQ40",
        "outputId": "04f79fbc-d6e2-419d-aac8-a5a5f550842a"
      },
      "id": "b4_UcP3hHQ40",
      "execution_count": null,
      "outputs": [
        {
          "output_type": "stream",
          "name": "stderr",
          "text": [
            "100%|██████████| 100/100 [04:56<00:00,  2.96s/it]\n"
          ]
        },
        {
          "output_type": "execute_result",
          "data": {
            "text/plain": [
              "<Axes: xlabel='threshold', ylabel='Total_cost'>"
            ]
          },
          "metadata": {},
          "execution_count": 57
        },
        {
          "output_type": "display_data",
          "data": {
            "text/plain": [
              "<Figure size 640x480 with 1 Axes>"
            ],
            "image/png": "[encoded data removed]"
          },
          "metadata": {}
        }
      ]
    },
    {
      "cell_type": "code",
      "source": [
        "# At this point I can review the dataframe appended_data to find out the best threshold for minimizing cost\n",
        "# Or I can do a simple query to list only the row that has the minumum cost by asking for\n",
        "# appended_data[appended_data.Total_cost == appended_data.Total_cost.min()]\n",
        "# I add some transpose and rounding to make it easier to read.\n",
        "\n",
        "print(round(appended_data[appended_data.Total_cost == appended_data.Total_cost.min()].transpose(),3))"
      ],
      "metadata": {
        "colab": {
          "base_uri": "https://localhost:8080/"
        },
        "id": "pO-9_keOHZX3",
        "outputId": "6b4dcc83-c5af-4d49-c3fd-32f3422e5bdf"
      },
      "id": "pO-9_keOHZX3",
      "execution_count": null,
      "outputs": [
        {
          "output_type": "stream",
          "name": "stdout",
          "text": [
            "                                0\n",
            "threshold                   0.460\n",
            "accuracy                    0.586\n",
            "precision                   0.330\n",
            "recall                      0.877\n",
            "True_NoDispute_Cost   1638500.000\n",
            "False_Dispute_Cost    3051590.000\n",
            "False_NoDispute_Cost   664200.000\n",
            "True_Dispute_Cost     1500810.000\n",
            "Total_cost            6855100.000\n"
          ]
        }
      ]
    },
    {
      "cell_type": "markdown",
      "source": [
        "# **So my minimum cost occurs at a threshold of 0.46, and the cost is $6.85 mm.**\n",
        "\n",
        "\n",
        "\n"
      ],
      "metadata": {
        "id": "ZfGDkGS-JHaY"
      },
      "id": "ZfGDkGS-JHaY"
    },
    {
      "cell_type": "markdown",
      "source": [
        "AUC and ROC Calculation"
      ],
      "metadata": {
        "id": "ZwnLxZYcIamG"
      },
      "id": "ZwnLxZYcIamG"
    },
    {
      "cell_type": "code",
      "source": [
        "# AUC calculation\n",
        "from sklearn import metrics\n",
        "metrics.roc_auc_score(y_test, pred_prob)"
      ],
      "metadata": {
        "colab": {
          "base_uri": "https://localhost:8080/"
        },
        "id": "5ZUV-m0UIXY5",
        "outputId": "67b79e5f-f8df-4224-c684-5176156b7ccd"
      },
      "id": "5ZUV-m0UIXY5",
      "execution_count": null,
      "outputs": [
        {
          "output_type": "execute_result",
          "data": {
            "text/plain": [
              "0.788124150358903"
            ]
          },
          "metadata": {},
          "execution_count": 59
        }
      ]
    },
    {
      "cell_type": "code",
      "source": [
        "fpr, tpr, thresholds = metrics.roc_curve(y_test, pred_prob)\n",
        "roc_auc = metrics.auc(fpr, tpr)\n",
        "plt.figure(figsize = (9,8))\n",
        "plt.title('Receiver Operating Characteristic')\n",
        "plt.plot(fpr, tpr, 'b', label = 'AUC = %0.2f' % roc_auc)\n",
        "plt.legend(loc = 'lower right')\n",
        "plt.plot([0, 1], [0, 1],'r--')\n",
        "plt.xlim([0, 1])\n",
        "plt.ylim([0, 1])\n",
        "plt.ylabel('True Positive Rate')\n",
        "plt.xlabel('False Positive Rate')\n",
        "plt.show()"
      ],
      "metadata": {
        "colab": {
          "base_uri": "https://localhost:8080/",
          "height": 717
        },
        "id": "wHglh93AIj5h",
        "outputId": "4416c37d-76ce-4c72-f77a-6dbd888966c2"
      },
      "id": "wHglh93AIj5h",
      "execution_count": null,
      "outputs": [
        {
          "output_type": "display_data",
          "data": {
            "text/plain": [
              "<Figure size 900x800 with 1 Axes>"
            ],
            "image/png": "[encoded data removed]"
          },
          "metadata": {}
        }
      ]
    },
    {
      "cell_type": "code",
      "source": [
        "pd.DataFrame({'TPR': tpr, 'FPR': fpr, 'Threshold': thresholds}).sort_values(by = ['Threshold']).reset_index(drop=True)"
      ],
      "metadata": {
        "colab": {
          "base_uri": "https://localhost:8080/",
          "height": 411
        },
        "id": "HL1b_4rZImr3",
        "outputId": "d0d3ab98-b606-4c06-8947-19dafb960257"
      },
      "id": "HL1b_4rZImr3",
      "execution_count": null,
      "outputs": [
        {
          "output_type": "execute_result",
          "data": {
            "text/plain": [
              "            TPR       FPR  Threshold\n",
              "0      1.000000  1.000000   0.000000\n",
              "1      1.000000  0.991031   0.001250\n",
              "2      1.000000  0.990908   0.001563\n",
              "3      1.000000  0.990754   0.001667\n",
              "4      1.000000  0.990692   0.002500\n",
              "...         ...       ...        ...\n",
              "11058  0.011215  0.002096   0.998333\n",
              "11059  0.011104  0.002065   0.998947\n",
              "11060  0.011104  0.002034   0.999000\n",
              "11061  0.010882  0.002034   1.000000\n",
              "11062  0.000000  0.000000   2.000000\n",
              "\n",
              "[11063 rows x 3 columns]"
            ],
            "text/html": [
              "\n",
              "  <div id=\"df-2de08e16-d840-49b0-9ad8-19d2b7e06d4e\">\n",
              "    <div class=\"colab-df-container\">\n",
              "      <div>\n",
              "<style scoped>\n",
              "    .dataframe tbody tr th:only-of-type {\n",
              "        vertical-align: middle;\n",
              "    }\n",
              "\n",
              "    .dataframe tbody tr th {\n",
              "        vertical-align: top;\n",
              "    }\n",
              "\n",
              "    .dataframe thead th {\n",
              "        text-align: right;\n",
              "    }\n",
              "</style>\n",
              "<table border=\"1\" class=\"dataframe\">\n",
              "  <thead>\n",
              "    <tr style=\"text-align: right;\">\n",
              "      <th></th>\n",
              "      <th>TPR</th>\n",
              "      <th>FPR</th>\n",
              "      <th>Threshold</th>\n",
              "    </tr>\n",
              "  </thead>\n",
              "  <tbody>\n",
              "    <tr>\n",
              "      <th>0</th>\n",
              "      <td>1.000000</td>\n",
              "      <td>1.000000</td>\n",
              "      <td>0.000000</td>\n",
              "    </tr>\n",
              "    <tr>\n",
              "      <th>1</th>\n",
              "      <td>1.000000</td>\n",
              "      <td>0.991031</td>\n",
              "      <td>0.001250</td>\n",
              "    </tr>\n",
              "    <tr>\n",
              "      <th>2</th>\n",
              "      <td>1.000000</td>\n",
              "      <td>0.990908</td>\n",
              "      <td>0.001563</td>\n",
              "    </tr>\n",
              "    <tr>\n",
              "      <th>3</th>\n",
              "      <td>1.000000</td>\n",
              "      <td>0.990754</td>\n",
              "      <td>0.001667</td>\n",
              "    </tr>\n",
              "    <tr>\n",
              "      <th>4</th>\n",
              "      <td>1.000000</td>\n",
              "      <td>0.990692</td>\n",
              "      <td>0.002500</td>\n",
              "    </tr>\n",
              "    <tr>\n",
              "      <th>...</th>\n",
              "      <td>...</td>\n",
              "      <td>...</td>\n",
              "      <td>...</td>\n",
              "    </tr>\n",
              "    <tr>\n",
              "      <th>11058</th>\n",
              "      <td>0.011215</td>\n",
              "      <td>0.002096</td>\n",
              "      <td>0.998333</td>\n",
              "    </tr>\n",
              "    <tr>\n",
              "      <th>11059</th>\n",
              "      <td>0.011104</td>\n",
              "      <td>0.002065</td>\n",
              "      <td>0.998947</td>\n",
              "    </tr>\n",
              "    <tr>\n",
              "      <th>11060</th>\n",
              "      <td>0.011104</td>\n",
              "      <td>0.002034</td>\n",
              "      <td>0.999000</td>\n",
              "    </tr>\n",
              "    <tr>\n",
              "      <th>11061</th>\n",
              "      <td>0.010882</td>\n",
              "      <td>0.002034</td>\n",
              "      <td>1.000000</td>\n",
              "    </tr>\n",
              "    <tr>\n",
              "      <th>11062</th>\n",
              "      <td>0.000000</td>\n",
              "      <td>0.000000</td>\n",
              "      <td>2.000000</td>\n",
              "    </tr>\n",
              "  </tbody>\n",
              "</table>\n",
              "<p>11063 rows × 3 columns</p>\n",
              "</div>\n",
              "      <button class=\"colab-df-convert\" onclick=\"convertToInteractive('df-2de08e16-d840-49b0-9ad8-19d2b7e06d4e')\"\n",
              "              title=\"Convert this dataframe to an interactive table.\"\n",
              "              style=\"display:none;\">\n",
              "        \n",
              "  <svg xmlns=\"http://www.w3.org/2000/svg\" height=\"24px\"viewBox=\"0 0 24 24\"\n",
              "       width=\"24px\">\n",
              "    <path d=\"M0 0h24v24H0V0z\" fill=\"none\"/>\n",
              "    <path d=\"M18.56 5.44l.94 2.06.94-2.06 2.06-.94-2.06-.94-.94-2.06-.94 2.06-2.06.94zm-11 1L8.5 8.5l.94-2.06 2.06-.94-2.06-.94L8.5 2.5l-.94 2.06-2.06.94zm10 10l.94 2.06.94-2.06 2.06-.94-2.06-.94-.94-2.06-.94 2.06-2.06.94z\"/><path d=\"M17.41 7.96l-1.37-1.37c-.4-.4-.92-.59-1.43-.59-.52 0-1.04.2-1.43.59L10.3 9.45l-7.72 7.72c-.78.78-.78 2.05 0 2.83L4 21.41c.39.39.9.59 1.41.59.51 0 1.02-.2 1.41-.59l7.78-7.78 2.81-2.81c.8-.78.8-2.07 0-2.86zM5.41 20L4 18.59l7.72-7.72 1.47 1.35L5.41 20z\"/>\n",
              "  </svg>\n",
              "      </button>\n",
              "      \n",
              "  <style>\n",
              "    .colab-df-container {\n",
              "      display:flex;\n",
              "      flex-wrap:wrap;\n",
              "      gap: 12px;\n",
              "    }\n",
              "\n",
              "    .colab-df-convert {\n",
              "      background-color: #E8F0FE;\n",
              "      border: none;\n",
              "      border-radius: 50%;\n",
              "      cursor: pointer;\n",
              "      display: none;\n",
              "      fill: #1967D2;\n",
              "      height: 32px;\n",
              "      padding: 0 0 0 0;\n",
              "      width: 32px;\n",
              "    }\n",
              "\n",
              "    .colab-df-convert:hover {\n",
              "      background-color: #E2EBFA;\n",
              "      box-shadow: 0px 1px 2px rgba(60, 64, 67, 0.3), 0px 1px 3px 1px rgba(60, 64, 67, 0.15);\n",
              "      fill: #174EA6;\n",
              "    }\n",
              "\n",
              "    [theme=dark] .colab-df-convert {\n",
              "      background-color: #3B4455;\n",
              "      fill: #D2E3FC;\n",
              "    }\n",
              "\n",
              "    [theme=dark] .colab-df-convert:hover {\n",
              "      background-color: #434B5C;\n",
              "      box-shadow: 0px 1px 3px 1px rgba(0, 0, 0, 0.15);\n",
              "      filter: drop-shadow(0px 1px 2px rgba(0, 0, 0, 0.3));\n",
              "      fill: #FFFFFF;\n",
              "    }\n",
              "  </style>\n",
              "\n",
              "      <script>\n",
              "        const buttonEl =\n",
              "          document.querySelector('#df-2de08e16-d840-49b0-9ad8-19d2b7e06d4e button.colab-df-convert');\n",
              "        buttonEl.style.display =\n",
              "          google.colab.kernel.accessAllowed ? 'block' : 'none';\n",
              "\n",
              "        async function convertToInteractive(key) {\n",
              "          const element = document.querySelector('#df-2de08e16-d840-49b0-9ad8-19d2b7e06d4e');\n",
              "          const dataTable =\n",
              "            await google.colab.kernel.invokeFunction('convertToInteractive',\n",
              "                                                     [key], {});\n",
              "          if (!dataTable) return;\n",
              "\n",
              "          const docLinkHtml = 'Like what you see? Visit the ' +\n",
              "            '<a target=\"_blank\" href=https://colab.research.google.com/notebooks/data_table.ipynb>data table notebook</a>'\n",
              "            + ' to learn more about interactive tables.';\n",
              "          element.innerHTML = '';\n",
              "          dataTable['output_type'] = 'display_data';\n",
              "          await google.colab.output.renderOutput(dataTable, element);\n",
              "          const docLink = document.createElement('div');\n",
              "          docLink.innerHTML = docLinkHtml;\n",
              "          element.appendChild(docLink);\n",
              "        }\n",
              "      </script>\n",
              "    </div>\n",
              "  </div>\n",
              "  "
            ]
          },
          "metadata": {},
          "execution_count": 61
        }
      ]
    },
    {
      "cell_type": "code",
      "source": [],
      "metadata": {
        "id": "WOj1Hf9OJB68"
      },
      "id": "WOj1Hf9OJB68",
      "execution_count": null,
      "outputs": []
    }
  ],
  "metadata": {
    "kernelspec": {
      "display_name": "Python 3",
      "language": "python",
      "name": "python3"
    },
    "language_info": {
      "codemirror_mode": {
        "name": "ipython",
        "version": 3
      },
      "file_extension": ".py",
      "mimetype": "text/x-python",
      "name": "python",
      "nbconvert_exporter": "python",
      "pygments_lexer": "ipython3",
      "version": "3.7.12"
    },
    "papermill": {
      "default_parameters": {},
      "duration": 38.00462,
      "end_time": "2022-02-10T16:53:07.089309",
      "environment_variables": {},
      "exception": null,
      "input_path": "__notebook__.ipynb",
      "output_path": "__notebook__.ipynb",
      "parameters": {},
      "start_time": "2022-02-10T16:52:29.084689",
      "version": "2.3.3"
    },
    "colab": {
      "provenance": []
    }
  },
  "nbformat": 4,
  "nbformat_minor": 5
}